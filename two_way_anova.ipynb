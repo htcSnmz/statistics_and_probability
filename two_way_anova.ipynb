{
 "cells": [
  {
   "cell_type": "markdown",
   "id": "b4284d9c",
   "metadata": {},
   "source": [
    "##### İki farklı kategorik değişken, bir sürekli bağımlı değişken\n",
    "##### Her grup normal dağılmalı\n",
    "##### Varyanslar eşit veya homojen olmalı\n",
    "##### Gözlemler bağımsız olmalı\n",
    "##### H0: M1 = M2 = M3 = ....... = Mk\n",
    "##### H1: En az bir grup ortalaması farklıdır."
   ]
  },
  {
   "cell_type": "markdown",
   "id": "8d9b3f3b",
   "metadata": {},
   "source": [
    "### 3 farklı gübre ve 4 farklı tohumun verdiği mahsullerin verimleri arasında ist. ol. anl. fark. var mıdır?"
   ]
  },
  {
   "cell_type": "code",
   "execution_count": 2,
   "id": "f7316db3",
   "metadata": {},
   "outputs": [],
   "source": [
    "import pandas as pd"
   ]
  },
  {
   "cell_type": "code",
   "execution_count": 2,
   "id": "391a6497",
   "metadata": {},
   "outputs": [
    {
     "data": {
      "text/html": [
       "<div>\n",
       "<style scoped>\n",
       "    .dataframe tbody tr th:only-of-type {\n",
       "        vertical-align: middle;\n",
       "    }\n",
       "\n",
       "    .dataframe tbody tr th {\n",
       "        vertical-align: top;\n",
       "    }\n",
       "\n",
       "    .dataframe thead th {\n",
       "        text-align: right;\n",
       "    }\n",
       "</style>\n",
       "<table border=\"1\" class=\"dataframe\">\n",
       "  <thead>\n",
       "    <tr style=\"text-align: right;\">\n",
       "      <th></th>\n",
       "      <th>Gübre</th>\n",
       "      <th>Tohum</th>\n",
       "      <th>Verim</th>\n",
       "    </tr>\n",
       "  </thead>\n",
       "  <tbody>\n",
       "    <tr>\n",
       "      <th>0</th>\n",
       "      <td>a</td>\n",
       "      <td>x</td>\n",
       "      <td>4.366966</td>\n",
       "    </tr>\n",
       "    <tr>\n",
       "      <th>1</th>\n",
       "      <td>a</td>\n",
       "      <td>y</td>\n",
       "      <td>2.968899</td>\n",
       "    </tr>\n",
       "    <tr>\n",
       "      <th>2</th>\n",
       "      <td>a</td>\n",
       "      <td>z</td>\n",
       "      <td>2.593462</td>\n",
       "    </tr>\n",
       "    <tr>\n",
       "      <th>3</th>\n",
       "      <td>a</td>\n",
       "      <td>w</td>\n",
       "      <td>2.677686</td>\n",
       "    </tr>\n",
       "    <tr>\n",
       "      <th>4</th>\n",
       "      <td>b</td>\n",
       "      <td>x</td>\n",
       "      <td>1.178191</td>\n",
       "    </tr>\n",
       "  </tbody>\n",
       "</table>\n",
       "</div>"
      ],
      "text/plain": [
       "  Gübre Tohum     Verim\n",
       "0     a     x  4.366966\n",
       "1     a     y  2.968899\n",
       "2     a     z  2.593462\n",
       "3     a     w  2.677686\n",
       "4     b     x  1.178191"
      ]
     },
     "execution_count": 2,
     "metadata": {},
     "output_type": "execute_result"
    }
   ],
   "source": [
    "data = pd.read_excel(\"C:/Users/htcso/OneDrive/Masaüstü/pythonProject/datasets/gubre_verim.xlsx\")\n",
    "data.head()"
   ]
  },
  {
   "cell_type": "code",
   "execution_count": 4,
   "id": "e85f5d4e",
   "metadata": {},
   "outputs": [],
   "source": [
    "a = data[data[\"Gübre\"] == \"a\"][\"Verim\"]\n",
    "b = data[data[\"Gübre\"] == \"b\"][\"Verim\"]\n",
    "c = data[data[\"Gübre\"] == \"c\"][\"Verim\"]"
   ]
  },
  {
   "cell_type": "code",
   "execution_count": 5,
   "id": "814803c5",
   "metadata": {},
   "outputs": [],
   "source": [
    "x =  data[data[\"Tohum\"] == \"x\"][\"Verim\"]\n",
    "y =  data[data[\"Tohum\"] == \"y\"][\"Verim\"]\n",
    "z =  data[data[\"Tohum\"] == \"z\"][\"Verim\"]\n",
    "w =  data[data[\"Tohum\"] == \"w\"][\"Verim\"]"
   ]
  },
  {
   "cell_type": "markdown",
   "id": "0d21120a",
   "metadata": {},
   "source": [
    "#### Normallik Testi\n",
    "#### H0: Veriler normal dağılım göstermektedir.\n",
    "#### H1: Veriler normal dağılım göstermemektedir."
   ]
  },
  {
   "cell_type": "code",
   "execution_count": 4,
   "id": "1583a548",
   "metadata": {},
   "outputs": [],
   "source": [
    "from scipy import stats"
   ]
  },
  {
   "cell_type": "code",
   "execution_count": 8,
   "id": "6db1011e",
   "metadata": {},
   "outputs": [
    {
     "data": {
      "text/plain": [
       "ShapiroResult(statistic=0.8792700171470642, pvalue=0.08578003942966461)"
      ]
     },
     "execution_count": 8,
     "metadata": {},
     "output_type": "execute_result"
    }
   ],
   "source": [
    "stats.shapiro(a)"
   ]
  },
  {
   "cell_type": "code",
   "execution_count": 9,
   "id": "3fa39115",
   "metadata": {},
   "outputs": [
    {
     "data": {
      "text/plain": [
       "ShapiroResult(statistic=0.9385117888450623, pvalue=0.5365753173828125)"
      ]
     },
     "execution_count": 9,
     "metadata": {},
     "output_type": "execute_result"
    }
   ],
   "source": [
    "stats.shapiro(b)"
   ]
  },
  {
   "cell_type": "code",
   "execution_count": 10,
   "id": "51efb962",
   "metadata": {},
   "outputs": [
    {
     "data": {
      "text/plain": [
       "ShapiroResult(statistic=0.8462140560150146, pvalue=0.08719556778669357)"
      ]
     },
     "execution_count": 10,
     "metadata": {},
     "output_type": "execute_result"
    }
   ],
   "source": [
    "stats.shapiro(c)"
   ]
  },
  {
   "cell_type": "code",
   "execution_count": 11,
   "id": "62752126",
   "metadata": {},
   "outputs": [],
   "source": [
    "# pvalues > 0.05 H0 reddedilemez. Gübre değişkeni için veriler normal dağılım gösterir."
   ]
  },
  {
   "cell_type": "code",
   "execution_count": 12,
   "id": "1b86b320",
   "metadata": {},
   "outputs": [
    {
     "data": {
      "text/plain": [
       "ShapiroResult(statistic=0.9010403156280518, pvalue=0.2952439785003662)"
      ]
     },
     "execution_count": 12,
     "metadata": {},
     "output_type": "execute_result"
    }
   ],
   "source": [
    "stats.shapiro(x)"
   ]
  },
  {
   "cell_type": "code",
   "execution_count": 13,
   "id": "e9bc53f3",
   "metadata": {},
   "outputs": [
    {
     "data": {
      "text/plain": [
       "ShapiroResult(statistic=0.909741997718811, pvalue=0.3522500693798065)"
      ]
     },
     "execution_count": 13,
     "metadata": {},
     "output_type": "execute_result"
    }
   ],
   "source": [
    "stats.shapiro(y)"
   ]
  },
  {
   "cell_type": "code",
   "execution_count": 14,
   "id": "d52c50e2",
   "metadata": {},
   "outputs": [
    {
     "data": {
      "text/plain": [
       "ShapiroResult(statistic=0.887331485748291, pvalue=0.26103076338768005)"
      ]
     },
     "execution_count": 14,
     "metadata": {},
     "output_type": "execute_result"
    }
   ],
   "source": [
    "stats.shapiro(z)"
   ]
  },
  {
   "cell_type": "code",
   "execution_count": 15,
   "id": "7dae153e",
   "metadata": {},
   "outputs": [
    {
     "data": {
      "text/plain": [
       "ShapiroResult(statistic=0.8098072409629822, pvalue=0.05114585533738136)"
      ]
     },
     "execution_count": 15,
     "metadata": {},
     "output_type": "execute_result"
    }
   ],
   "source": [
    "stats.shapiro(w)"
   ]
  },
  {
   "cell_type": "code",
   "execution_count": 16,
   "id": "fb8f4b6a",
   "metadata": {},
   "outputs": [],
   "source": [
    "# pvalues > 0.05 H0 reddedilemez. Tohum değişkeni için veriler normal dağılım gösterir."
   ]
  },
  {
   "cell_type": "markdown",
   "id": "6fcf8b9d",
   "metadata": {},
   "source": [
    "#### Varyans Homojenliği Testi\n",
    "#### H0: Varyanslar homojendir.\n",
    "#### H1: Varyanslar homojen değildir."
   ]
  },
  {
   "cell_type": "code",
   "execution_count": 17,
   "id": "bf4877a7",
   "metadata": {},
   "outputs": [
    {
     "data": {
      "text/plain": [
       "LeveneResult(statistic=0.9623344962444635, pvalue=0.3947184688097196)"
      ]
     },
     "execution_count": 17,
     "metadata": {},
     "output_type": "execute_result"
    }
   ],
   "source": [
    "stats.levene(a, b, c)"
   ]
  },
  {
   "cell_type": "code",
   "execution_count": 18,
   "id": "be5de6c7",
   "metadata": {},
   "outputs": [],
   "source": [
    "# pvalue > 0.05 H0 reddedilemez. Gübre değişkeni için varyanslar homojendir."
   ]
  },
  {
   "cell_type": "code",
   "execution_count": 19,
   "id": "4e605254",
   "metadata": {},
   "outputs": [
    {
     "data": {
      "text/plain": [
       "LeveneResult(statistic=0.8312442910868285, pvalue=0.4888125358339117)"
      ]
     },
     "execution_count": 19,
     "metadata": {},
     "output_type": "execute_result"
    }
   ],
   "source": [
    "stats.levene(x, y, z, w)"
   ]
  },
  {
   "cell_type": "code",
   "execution_count": 20,
   "id": "ec1d2111",
   "metadata": {},
   "outputs": [],
   "source": [
    "# pvalue > 0.05 H0 reddedilemez. Tohum değişkeni için varyanslar homojendir."
   ]
  },
  {
   "cell_type": "markdown",
   "id": "2ede9115",
   "metadata": {},
   "source": [
    "#### Çift yönlü anova testi"
   ]
  },
  {
   "cell_type": "code",
   "execution_count": 5,
   "id": "1a773b31",
   "metadata": {},
   "outputs": [],
   "source": [
    "import statsmodels.api as sm\n",
    "from statsmodels.formula.api import ols"
   ]
  },
  {
   "cell_type": "code",
   "execution_count": 23,
   "id": "ce6fc552",
   "metadata": {},
   "outputs": [
    {
     "name": "stdout",
     "output_type": "stream",
     "text": [
      "                     df     sum_sq   mean_sq         F    PR(>F)\n",
      "C(Gübre)            2.0   2.849583  1.424791  2.153585  0.145028\n",
      "C(Tohum)            3.0   0.013900  0.004633  0.007003  0.999163\n",
      "C(Gübre):C(Tohum)   6.0   5.845714  0.974286  1.472642  0.242969\n",
      "Residual           18.0  11.908629  0.661591       NaN       NaN\n"
     ]
    }
   ],
   "source": [
    "model = \"Verim ~ C(Gübre) +  C(Tohum) + C(Gübre) : C(Tohum)\"\n",
    "test = ols(model, data=data).fit()\n",
    "anova = sm.stats.anova_lm(test, type=2)\n",
    "print(anova)"
   ]
  },
  {
   "cell_type": "code",
   "execution_count": 1,
   "id": "c581a1d9",
   "metadata": {},
   "outputs": [],
   "source": [
    "# PR(>F) > 0.05 old. için H0 reddedilemez. Ortalamalar arasında ist. ol. anl. fark. yoktur."
   ]
  },
  {
   "cell_type": "markdown",
   "id": "a3e36837",
   "metadata": {},
   "source": [
    "### Çalışanların mevkileri ve çalışma sürelerinin performansları üzerinde anlamlı bir etkisi var mıdır?"
   ]
  },
  {
   "cell_type": "code",
   "execution_count": 3,
   "id": "9ca190bf",
   "metadata": {},
   "outputs": [
    {
     "data": {
      "text/html": [
       "<div>\n",
       "<style scoped>\n",
       "    .dataframe tbody tr th:only-of-type {\n",
       "        vertical-align: middle;\n",
       "    }\n",
       "\n",
       "    .dataframe tbody tr th {\n",
       "        vertical-align: top;\n",
       "    }\n",
       "\n",
       "    .dataframe thead th {\n",
       "        text-align: right;\n",
       "    }\n",
       "</style>\n",
       "<table border=\"1\" class=\"dataframe\">\n",
       "  <thead>\n",
       "    <tr style=\"text-align: right;\">\n",
       "      <th></th>\n",
       "      <th>Mevki</th>\n",
       "      <th>Süre</th>\n",
       "      <th>Performans</th>\n",
       "    </tr>\n",
       "  </thead>\n",
       "  <tbody>\n",
       "    <tr>\n",
       "      <th>0</th>\n",
       "      <td>İşçi</td>\n",
       "      <td>Bir Ay</td>\n",
       "      <td>7</td>\n",
       "    </tr>\n",
       "    <tr>\n",
       "      <th>1</th>\n",
       "      <td>İşçi</td>\n",
       "      <td>Beş Ay</td>\n",
       "      <td>5</td>\n",
       "    </tr>\n",
       "    <tr>\n",
       "      <th>2</th>\n",
       "      <td>İşçi</td>\n",
       "      <td>Bir Yıl</td>\n",
       "      <td>4</td>\n",
       "    </tr>\n",
       "    <tr>\n",
       "      <th>3</th>\n",
       "      <td>İşçi</td>\n",
       "      <td>Üç Yıl ve Üzeri</td>\n",
       "      <td>2</td>\n",
       "    </tr>\n",
       "    <tr>\n",
       "      <th>4</th>\n",
       "      <td>İşçi</td>\n",
       "      <td>Bir Ay</td>\n",
       "      <td>5</td>\n",
       "    </tr>\n",
       "  </tbody>\n",
       "</table>\n",
       "</div>"
      ],
      "text/plain": [
       "  Mevki             Süre  Performans\n",
       "0  İşçi           Bir Ay           7\n",
       "1  İşçi           Beş Ay           5\n",
       "2  İşçi          Bir Yıl           4\n",
       "3  İşçi  Üç Yıl ve Üzeri           2\n",
       "4  İşçi           Bir Ay           5"
      ]
     },
     "execution_count": 3,
     "metadata": {},
     "output_type": "execute_result"
    }
   ],
   "source": [
    "data = pd.read_excel(\"C:/Users/htcso/OneDrive/Masaüstü/pythonProject/datasets/performans.xlsx\")\n",
    "data.head()"
   ]
  },
  {
   "cell_type": "code",
   "execution_count": 6,
   "id": "7fa2fee6",
   "metadata": {},
   "outputs": [],
   "source": [
    "import statsmodels.stats as ss\n",
    "import matplotlib.pyplot as plt"
   ]
  },
  {
   "cell_type": "code",
   "execution_count": 9,
   "id": "5fc583c5",
   "metadata": {},
   "outputs": [],
   "source": [
    "model = ols(\"Performans ~ C(Mevki) + C(Süre) + C(Mevki) : C(Süre)\", data=data).fit()\n",
    "errors = model.resid"
   ]
  },
  {
   "cell_type": "markdown",
   "id": "b4f68bb9",
   "metadata": {},
   "source": [
    "#### Normallik Kontrolü (Hatalar ve Grafik Yöntemi ile)"
   ]
  },
  {
   "cell_type": "code",
   "execution_count": 10,
   "id": "7936fcf0",
   "metadata": {},
   "outputs": [
    {
     "data": {
      "text/plain": [
       "ShapiroResult(statistic=0.9807988405227661, pvalue=0.6122861504554749)"
      ]
     },
     "execution_count": 10,
     "metadata": {},
     "output_type": "execute_result"
    }
   ],
   "source": [
    "# Hata Yöntemi\n",
    "normality = stats.shapiro(errors)\n",
    "normality"
   ]
  },
  {
   "cell_type": "code",
   "execution_count": 11,
   "id": "ea5e1999",
   "metadata": {},
   "outputs": [],
   "source": [
    "# pvalue > 0.05 --> Normal dağılım gösterdiğini söyler."
   ]
  },
  {
   "cell_type": "code",
   "execution_count": 15,
   "id": "37b3487b",
   "metadata": {},
   "outputs": [
    {
     "data": {
      "image/png": "[encoded data removed]",
      "text/plain": [
       "<Figure size 640x480 with 1 Axes>"
      ]
     },
     "metadata": {},
     "output_type": "display_data"
    }
   ],
   "source": [
    "# Grafik Yöntemi ile\n",
    "fig = sm.qqplot(errors, line=\"s\")\n",
    "plt.show()"
   ]
  },
  {
   "cell_type": "code",
   "execution_count": 16,
   "id": "0c42ddae",
   "metadata": {},
   "outputs": [],
   "source": [
    "# Veriler genellikle çizgi etrafında bulundğundan dolayı normallik varsayımının sağlandığını söyleyebiliriz."
   ]
  },
  {
   "cell_type": "markdown",
   "id": "297b18c9",
   "metadata": {},
   "source": [
    "#### Modelin Anlamlılığı"
   ]
  },
  {
   "cell_type": "code",
   "execution_count": 17,
   "id": "4842de02",
   "metadata": {},
   "outputs": [
    {
     "data": {
      "text/html": [
       "<table class=\"simpletable\">\n",
       "<caption>OLS Regression Results</caption>\n",
       "<tr>\n",
       "  <th>Dep. Variable:</th>       <td>Performans</td>    <th>  R-squared:         </th> <td>   0.902</td>\n",
       "</tr>\n",
       "<tr>\n",
       "  <th>Model:</th>                   <td>OLS</td>       <th>  Adj. R-squared:    </th> <td>   0.872</td>\n",
       "</tr>\n",
       "<tr>\n",
       "  <th>Method:</th>             <td>Least Squares</td>  <th>  F-statistic:       </th> <td>   30.06</td>\n",
       "</tr>\n",
       "<tr>\n",
       "  <th>Date:</th>             <td>Wed, 22 Mar 2023</td> <th>  Prob (F-statistic):</th> <td>7.41e-15</td>\n",
       "</tr>\n",
       "<tr>\n",
       "  <th>Time:</th>                 <td>10:44:58</td>     <th>  Log-Likelihood:    </th> <td> -53.852</td>\n",
       "</tr>\n",
       "<tr>\n",
       "  <th>No. Observations:</th>      <td>    48</td>      <th>  AIC:               </th> <td>   131.7</td>\n",
       "</tr>\n",
       "<tr>\n",
       "  <th>Df Residuals:</th>          <td>    36</td>      <th>  BIC:               </th> <td>   154.2</td>\n",
       "</tr>\n",
       "<tr>\n",
       "  <th>Df Model:</th>              <td>    11</td>      <th>                     </th>     <td> </td>   \n",
       "</tr>\n",
       "<tr>\n",
       "  <th>Covariance Type:</th>      <td>nonrobust</td>    <th>                     </th>     <td> </td>   \n",
       "</tr>\n",
       "</table>\n",
       "<table class=\"simpletable\">\n",
       "<tr>\n",
       "                         <td></td>                            <th>coef</th>     <th>std err</th>      <th>t</th>      <th>P>|t|</th>  <th>[0.025</th>    <th>0.975]</th>  \n",
       "</tr>\n",
       "<tr>\n",
       "  <th>Intercept</th>                                       <td>    6.5000</td> <td>    0.429</td> <td>   15.152</td> <td> 0.000</td> <td>    5.630</td> <td>    7.370</td>\n",
       "</tr>\n",
       "<tr>\n",
       "  <th>C(Mevki)[T.Yönetici]</th>                            <td>    1.5000</td> <td>    0.607</td> <td>    2.472</td> <td> 0.018</td> <td>    0.270</td> <td>    2.730</td>\n",
       "</tr>\n",
       "<tr>\n",
       "  <th>C(Mevki)[T.İşçi]</th>                                <td>   -2.0000</td> <td>    0.607</td> <td>   -3.297</td> <td> 0.002</td> <td>   -3.230</td> <td>   -0.770</td>\n",
       "</tr>\n",
       "<tr>\n",
       "  <th>C(Süre)[T.Bir Ay]</th>                               <td>    0.2500</td> <td>    0.607</td> <td>    0.412</td> <td> 0.683</td> <td>   -0.980</td> <td>    1.480</td>\n",
       "</tr>\n",
       "<tr>\n",
       "  <th>C(Süre)[T.Bir Yıl]</th>                              <td>   -0.5000</td> <td>    0.607</td> <td>   -0.824</td> <td> 0.415</td> <td>   -1.730</td> <td>    0.730</td>\n",
       "</tr>\n",
       "<tr>\n",
       "  <th>C(Süre)[T.Üç Yıl ve Üzeri]</th>                      <td>   -0.5000</td> <td>    0.607</td> <td>   -0.824</td> <td> 0.415</td> <td>   -1.730</td> <td>    0.730</td>\n",
       "</tr>\n",
       "<tr>\n",
       "  <th>C(Mevki)[T.Yönetici]:C(Süre)[T.Bir Ay]</th>          <td>   -2.2500</td> <td>    0.858</td> <td>   -2.622</td> <td> 0.013</td> <td>   -3.990</td> <td>   -0.510</td>\n",
       "</tr>\n",
       "<tr>\n",
       "  <th>C(Mevki)[T.İşçi]:C(Süre)[T.Bir Ay]</th>              <td>    0.5000</td> <td>    0.858</td> <td>    0.583</td> <td> 0.564</td> <td>   -1.240</td> <td>    2.240</td>\n",
       "</tr>\n",
       "<tr>\n",
       "  <th>C(Mevki)[T.Yönetici]:C(Süre)[T.Bir Yıl]</th>         <td>    1.7500</td> <td>    0.858</td> <td>    2.040</td> <td> 0.049</td> <td>    0.010</td> <td>    3.490</td>\n",
       "</tr>\n",
       "<tr>\n",
       "  <th>C(Mevki)[T.İşçi]:C(Süre)[T.Bir Yıl]</th>             <td>   -1.2500</td> <td>    0.858</td> <td>   -1.457</td> <td> 0.154</td> <td>   -2.990</td> <td>    0.490</td>\n",
       "</tr>\n",
       "<tr>\n",
       "  <th>C(Mevki)[T.Yönetici]:C(Süre)[T.Üç Yıl ve Üzeri]</th> <td>    2.2500</td> <td>    0.858</td> <td>    2.622</td> <td> 0.013</td> <td>    0.510</td> <td>    3.990</td>\n",
       "</tr>\n",
       "<tr>\n",
       "  <th>C(Mevki)[T.İşçi]:C(Süre)[T.Üç Yıl ve Üzeri]</th>     <td>   -2.2500</td> <td>    0.858</td> <td>   -2.622</td> <td> 0.013</td> <td>   -3.990</td> <td>   -0.510</td>\n",
       "</tr>\n",
       "</table>\n",
       "<table class=\"simpletable\">\n",
       "<tr>\n",
       "  <th>Omnibus:</th>       <td> 0.108</td> <th>  Durbin-Watson:     </th> <td>   1.099</td>\n",
       "</tr>\n",
       "<tr>\n",
       "  <th>Prob(Omnibus):</th> <td> 0.947</td> <th>  Jarque-Bera (JB):  </th> <td>   0.312</td>\n",
       "</tr>\n",
       "<tr>\n",
       "  <th>Skew:</th>          <td> 0.038</td> <th>  Prob(JB):          </th> <td>   0.855</td>\n",
       "</tr>\n",
       "<tr>\n",
       "  <th>Kurtosis:</th>      <td> 2.612</td> <th>  Cond. No.          </th> <td>    17.9</td>\n",
       "</tr>\n",
       "</table><br/><br/>Notes:<br/>[1] Standard Errors assume that the covariance matrix of the errors is correctly specified."
      ],
      "text/plain": [
       "<class 'statsmodels.iolib.summary.Summary'>\n",
       "\"\"\"\n",
       "                            OLS Regression Results                            \n",
       "==============================================================================\n",
       "Dep. Variable:             Performans   R-squared:                       0.902\n",
       "Model:                            OLS   Adj. R-squared:                  0.872\n",
       "Method:                 Least Squares   F-statistic:                     30.06\n",
       "Date:                Wed, 22 Mar 2023   Prob (F-statistic):           7.41e-15\n",
       "Time:                        10:44:58   Log-Likelihood:                -53.852\n",
       "No. Observations:                  48   AIC:                             131.7\n",
       "Df Residuals:                      36   BIC:                             154.2\n",
       "Df Model:                          11                                         \n",
       "Covariance Type:            nonrobust                                         \n",
       "===================================================================================================================\n",
       "                                                      coef    std err          t      P>|t|      [0.025      0.975]\n",
       "-------------------------------------------------------------------------------------------------------------------\n",
       "Intercept                                           6.5000      0.429     15.152      0.000       5.630       7.370\n",
       "C(Mevki)[T.Yönetici]                                1.5000      0.607      2.472      0.018       0.270       2.730\n",
       "C(Mevki)[T.İşçi]                                   -2.0000      0.607     -3.297      0.002      -3.230      -0.770\n",
       "C(Süre)[T.Bir Ay]                                   0.2500      0.607      0.412      0.683      -0.980       1.480\n",
       "C(Süre)[T.Bir Yıl]                                 -0.5000      0.607     -0.824      0.415      -1.730       0.730\n",
       "C(Süre)[T.Üç Yıl ve Üzeri]                         -0.5000      0.607     -0.824      0.415      -1.730       0.730\n",
       "C(Mevki)[T.Yönetici]:C(Süre)[T.Bir Ay]             -2.2500      0.858     -2.622      0.013      -3.990      -0.510\n",
       "C(Mevki)[T.İşçi]:C(Süre)[T.Bir Ay]                  0.5000      0.858      0.583      0.564      -1.240       2.240\n",
       "C(Mevki)[T.Yönetici]:C(Süre)[T.Bir Yıl]             1.7500      0.858      2.040      0.049       0.010       3.490\n",
       "C(Mevki)[T.İşçi]:C(Süre)[T.Bir Yıl]                -1.2500      0.858     -1.457      0.154      -2.990       0.490\n",
       "C(Mevki)[T.Yönetici]:C(Süre)[T.Üç Yıl ve Üzeri]     2.2500      0.858      2.622      0.013       0.510       3.990\n",
       "C(Mevki)[T.İşçi]:C(Süre)[T.Üç Yıl ve Üzeri]        -2.2500      0.858     -2.622      0.013      -3.990      -0.510\n",
       "==============================================================================\n",
       "Omnibus:                        0.108   Durbin-Watson:                   1.099\n",
       "Prob(Omnibus):                  0.947   Jarque-Bera (JB):                0.312\n",
       "Skew:                           0.038   Prob(JB):                        0.855\n",
       "Kurtosis:                       2.612   Cond. No.                         17.9\n",
       "==============================================================================\n",
       "\n",
       "Notes:\n",
       "[1] Standard Errors assume that the covariance matrix of the errors is correctly specified.\n",
       "\"\"\""
      ]
     },
     "execution_count": 17,
     "metadata": {},
     "output_type": "execute_result"
    }
   ],
   "source": [
    "model.summary()"
   ]
  },
  {
   "cell_type": "code",
   "execution_count": 18,
   "id": "c9e32081",
   "metadata": {},
   "outputs": [],
   "source": [
    "# Prob (F-statistic): 7.41e-15 < 0.05 için modelin anlamlı olduğu sonucu ortaya çıkar.\n",
    "# Model anlamlı ise anova testine geçilebilir."
   ]
  },
  {
   "cell_type": "markdown",
   "id": "fe475bc0",
   "metadata": {},
   "source": [
    "#### Anova Testi"
   ]
  },
  {
   "cell_type": "code",
   "execution_count": 19,
   "id": "4021e05d",
   "metadata": {},
   "outputs": [
    {
     "data": {
      "text/html": [
       "<div>\n",
       "<style scoped>\n",
       "    .dataframe tbody tr th:only-of-type {\n",
       "        vertical-align: middle;\n",
       "    }\n",
       "\n",
       "    .dataframe tbody tr th {\n",
       "        vertical-align: top;\n",
       "    }\n",
       "\n",
       "    .dataframe thead th {\n",
       "        text-align: right;\n",
       "    }\n",
       "</style>\n",
       "<table border=\"1\" class=\"dataframe\">\n",
       "  <thead>\n",
       "    <tr style=\"text-align: right;\">\n",
       "      <th></th>\n",
       "      <th>df</th>\n",
       "      <th>sum_sq</th>\n",
       "      <th>mean_sq</th>\n",
       "      <th>F</th>\n",
       "      <th>PR(&gt;F)</th>\n",
       "    </tr>\n",
       "  </thead>\n",
       "  <tbody>\n",
       "    <tr>\n",
       "      <th>C(Mevki)</th>\n",
       "      <td>2.0</td>\n",
       "      <td>177.541667</td>\n",
       "      <td>88.770833</td>\n",
       "      <td>120.594340</td>\n",
       "      <td>1.105315e-16</td>\n",
       "    </tr>\n",
       "    <tr>\n",
       "      <th>C(Süre)</th>\n",
       "      <td>3.0</td>\n",
       "      <td>1.583333</td>\n",
       "      <td>0.527778</td>\n",
       "      <td>0.716981</td>\n",
       "      <td>5.483443e-01</td>\n",
       "    </tr>\n",
       "    <tr>\n",
       "      <th>C(Mevki):C(Süre)</th>\n",
       "      <td>6.0</td>\n",
       "      <td>64.291667</td>\n",
       "      <td>10.715278</td>\n",
       "      <td>14.556604</td>\n",
       "      <td>2.351726e-08</td>\n",
       "    </tr>\n",
       "    <tr>\n",
       "      <th>Residual</th>\n",
       "      <td>36.0</td>\n",
       "      <td>26.500000</td>\n",
       "      <td>0.736111</td>\n",
       "      <td>NaN</td>\n",
       "      <td>NaN</td>\n",
       "    </tr>\n",
       "  </tbody>\n",
       "</table>\n",
       "</div>"
      ],
      "text/plain": [
       "                    df      sum_sq    mean_sq           F        PR(>F)\n",
       "C(Mevki)           2.0  177.541667  88.770833  120.594340  1.105315e-16\n",
       "C(Süre)            3.0    1.583333   0.527778    0.716981  5.483443e-01\n",
       "C(Mevki):C(Süre)   6.0   64.291667  10.715278   14.556604  2.351726e-08\n",
       "Residual          36.0   26.500000   0.736111         NaN           NaN"
      ]
     },
     "execution_count": 19,
     "metadata": {},
     "output_type": "execute_result"
    }
   ],
   "source": [
    "anova = sm.stats.anova_lm(model, type=2)\n",
    "anova"
   ]
  },
  {
   "cell_type": "code",
   "execution_count": 20,
   "id": "2d8b38e7",
   "metadata": {},
   "outputs": [],
   "source": [
    "# Mevki PR(>F): 1.105315e-16 < 0.05, bu değişkenin tek başına performansa etkisi vardır.\n",
    "# Süre PR(>F): 5.483443e-01 > 0.05, bu değişkenin tek başına performansa etkisi yoktur. \n",
    "# Mevki ve Süre PR(>F): 2.351726e-08 < 0.05 olduğundan, bu iki değişkenin birlikte çalışanların performansları üzerinde\n",
    "# anlamlı bir etkisi olduğu söylenebilir.\n",
    "# Mevki değişkeni tek başına ve Mevki-Süre değişkeni birlikte incelenmeli"
   ]
  },
  {
   "cell_type": "markdown",
   "id": "40f0e88e",
   "metadata": {},
   "source": [
    "#### Post Hoc Testleri"
   ]
  },
  {
   "cell_type": "code",
   "execution_count": 22,
   "id": "2c30b89f",
   "metadata": {},
   "outputs": [
    {
     "name": "stdout",
     "output_type": "stream",
     "text": [
      "  Multiple Comparison of Means - Tukey HSD, FWER=0.05   \n",
      "========================================================\n",
      " group1   group2  meandiff p-adj   lower   upper  reject\n",
      "--------------------------------------------------------\n",
      "Ustabaşı Yönetici   1.9375 0.0011  0.7098  3.1652   True\n",
      "Ustabaşı     İşçi    -2.75    0.0 -3.9777 -1.5223   True\n",
      "Yönetici     İşçi  -4.6875    0.0 -5.9152 -3.4598   True\n",
      "--------------------------------------------------------\n"
     ]
    }
   ],
   "source": [
    "mevki = ss.multicomp.pairwise_tukeyhsd(endog=data[\"Performans\"], groups=data[\"Mevki\"])\n",
    "print(mevki)"
   ]
  },
  {
   "cell_type": "code",
   "execution_count": 23,
   "id": "7a7b8843",
   "metadata": {},
   "outputs": [],
   "source": [
    "# reject = True ise fark vardır.\n",
    "# Ustabaşı Yönetici arasında\n",
    "# Ustabaşı     İşçi arasında\n",
    "# Yönetici     İşçi arasında performans açısından anlamlı farklılık vardır."
   ]
  },
  {
   "cell_type": "code",
   "execution_count": 24,
   "id": "399a1839",
   "metadata": {},
   "outputs": [
    {
     "name": "stderr",
     "output_type": "stream",
     "text": [
      "C:\\Users\\htcso\\AppData\\Local\\Temp\\ipykernel_4276\\450314150.py:1: FutureWarning: The default value of numeric_only in DataFrameGroupBy.mean is deprecated. In a future version, numeric_only will default to False. Either specify numeric_only or select only columns which should be valid for the function.\n",
      "  data.groupby(\"Mevki\").mean()\n"
     ]
    },
    {
     "data": {
      "text/html": [
       "<div>\n",
       "<style scoped>\n",
       "    .dataframe tbody tr th:only-of-type {\n",
       "        vertical-align: middle;\n",
       "    }\n",
       "\n",
       "    .dataframe tbody tr th {\n",
       "        vertical-align: top;\n",
       "    }\n",
       "\n",
       "    .dataframe thead th {\n",
       "        text-align: right;\n",
       "    }\n",
       "</style>\n",
       "<table border=\"1\" class=\"dataframe\">\n",
       "  <thead>\n",
       "    <tr style=\"text-align: right;\">\n",
       "      <th></th>\n",
       "      <th>Performans</th>\n",
       "    </tr>\n",
       "    <tr>\n",
       "      <th>Mevki</th>\n",
       "      <th></th>\n",
       "    </tr>\n",
       "  </thead>\n",
       "  <tbody>\n",
       "    <tr>\n",
       "      <th>Ustabaşı</th>\n",
       "      <td>6.3125</td>\n",
       "    </tr>\n",
       "    <tr>\n",
       "      <th>Yönetici</th>\n",
       "      <td>8.2500</td>\n",
       "    </tr>\n",
       "    <tr>\n",
       "      <th>İşçi</th>\n",
       "      <td>3.5625</td>\n",
       "    </tr>\n",
       "  </tbody>\n",
       "</table>\n",
       "</div>"
      ],
      "text/plain": [
       "          Performans\n",
       "Mevki               \n",
       "Ustabaşı      6.3125\n",
       "Yönetici      8.2500\n",
       "İşçi          3.5625"
      ]
     },
     "execution_count": 24,
     "metadata": {},
     "output_type": "execute_result"
    }
   ],
   "source": [
    "data.groupby(\"Mevki\").mean()"
   ]
  },
  {
   "cell_type": "code",
   "execution_count": 25,
   "id": "38ef91c7",
   "metadata": {},
   "outputs": [
    {
     "name": "stdout",
     "output_type": "stream",
     "text": [
      "                  Multiple Comparison of Means - Tukey HSD, FWER=0.05                  \n",
      "=======================================================================================\n",
      "         group1                  group2         meandiff p-adj   lower    upper  reject\n",
      "---------------------------------------------------------------------------------------\n",
      "         UstabaşıBeş Ay          UstabaşıBir Ay     0.25    1.0  -1.8675  2.3675  False\n",
      "         UstabaşıBeş Ay         UstabaşıBir Yıl     -0.5 0.9994  -2.6175  1.6175  False\n",
      "         UstabaşıBeş Ay UstabaşıÜç Yıl ve Üzeri     -0.5 0.9994  -2.6175  1.6175  False\n",
      "         UstabaşıBeş Ay          YöneticiBeş Ay      1.5 0.3877  -0.6175  3.6175  False\n",
      "         UstabaşıBeş Ay          YöneticiBir Ay     -0.5 0.9994  -2.6175  1.6175  False\n",
      "         UstabaşıBeş Ay         YöneticiBir Yıl     2.75 0.0031   0.6325  4.8675   True\n",
      "         UstabaşıBeş Ay YöneticiÜç Yıl ve Üzeri     3.25 0.0003   1.1325  5.3675   True\n",
      "         UstabaşıBeş Ay              İşçiBeş Ay     -2.0 0.0788  -4.1175  0.1175  False\n",
      "         UstabaşıBeş Ay              İşçiBir Ay    -1.25 0.6517  -3.3675  0.8675  False\n",
      "         UstabaşıBeş Ay             İşçiBir Yıl    -3.75    0.0  -5.8675 -1.6325   True\n",
      "         UstabaşıBeş Ay     İşçiÜç Yıl ve Üzeri    -4.75    0.0  -6.8675 -2.6325   True\n",
      "         UstabaşıBir Ay         UstabaşıBir Yıl    -0.75 0.9819  -2.8675  1.3675  False\n",
      "         UstabaşıBir Ay UstabaşıÜç Yıl ve Üzeri    -0.75 0.9819  -2.8675  1.3675  False\n",
      "         UstabaşıBir Ay          YöneticiBeş Ay     1.25 0.6517  -0.8675  3.3675  False\n",
      "         UstabaşıBir Ay          YöneticiBir Ay    -0.75 0.9819  -2.8675  1.3675  False\n",
      "         UstabaşıBir Ay         YöneticiBir Yıl      2.5 0.0098   0.3825  4.6175   True\n",
      "         UstabaşıBir Ay YöneticiÜç Yıl ve Üzeri      3.0 0.0009   0.8825  5.1175   True\n",
      "         UstabaşıBir Ay              İşçiBeş Ay    -2.25 0.0291  -4.3675 -0.1325   True\n",
      "         UstabaşıBir Ay              İşçiBir Ay     -1.5 0.3877  -3.6175  0.6175  False\n",
      "         UstabaşıBir Ay             İşçiBir Yıl     -4.0    0.0  -6.1175 -1.8825   True\n",
      "         UstabaşıBir Ay     İşçiÜç Yıl ve Üzeri     -5.0    0.0  -7.1175 -2.8825   True\n",
      "        UstabaşıBir Yıl UstabaşıÜç Yıl ve Üzeri      0.0    1.0  -2.1175  2.1175  False\n",
      "        UstabaşıBir Yıl          YöneticiBeş Ay      2.0 0.0788  -0.1175  4.1175  False\n",
      "        UstabaşıBir Yıl          YöneticiBir Ay      0.0    1.0  -2.1175  2.1175  False\n",
      "        UstabaşıBir Yıl         YöneticiBir Yıl     3.25 0.0003   1.1325  5.3675   True\n",
      "        UstabaşıBir Yıl YöneticiÜç Yıl ve Üzeri     3.75    0.0   1.6325  5.8675   True\n",
      "        UstabaşıBir Yıl              İşçiBeş Ay     -1.5 0.3877  -3.6175  0.6175  False\n",
      "        UstabaşıBir Yıl              İşçiBir Ay    -0.75 0.9819  -2.8675  1.3675  False\n",
      "        UstabaşıBir Yıl             İşçiBir Yıl    -3.25 0.0003  -5.3675 -1.1325   True\n",
      "        UstabaşıBir Yıl     İşçiÜç Yıl ve Üzeri    -4.25    0.0  -6.3675 -2.1325   True\n",
      "UstabaşıÜç Yıl ve Üzeri          YöneticiBeş Ay      2.0 0.0788  -0.1175  4.1175  False\n",
      "UstabaşıÜç Yıl ve Üzeri          YöneticiBir Ay      0.0    1.0  -2.1175  2.1175  False\n",
      "UstabaşıÜç Yıl ve Üzeri         YöneticiBir Yıl     3.25 0.0003   1.1325  5.3675   True\n",
      "UstabaşıÜç Yıl ve Üzeri YöneticiÜç Yıl ve Üzeri     3.75    0.0   1.6325  5.8675   True\n",
      "UstabaşıÜç Yıl ve Üzeri              İşçiBeş Ay     -1.5 0.3877  -3.6175  0.6175  False\n",
      "UstabaşıÜç Yıl ve Üzeri              İşçiBir Ay    -0.75 0.9819  -2.8675  1.3675  False\n",
      "UstabaşıÜç Yıl ve Üzeri             İşçiBir Yıl    -3.25 0.0003  -5.3675 -1.1325   True\n",
      "UstabaşıÜç Yıl ve Üzeri     İşçiÜç Yıl ve Üzeri    -4.25    0.0  -6.3675 -2.1325   True\n",
      "         YöneticiBeş Ay          YöneticiBir Ay     -2.0 0.0788  -4.1175  0.1175  False\n",
      "         YöneticiBeş Ay         YöneticiBir Yıl     1.25 0.6517  -0.8675  3.3675  False\n",
      "         YöneticiBeş Ay YöneticiÜç Yıl ve Üzeri     1.75 0.1893  -0.3675  3.8675  False\n",
      "         YöneticiBeş Ay              İşçiBeş Ay     -3.5 0.0001  -5.6175 -1.3825   True\n",
      "         YöneticiBeş Ay              İşçiBir Ay    -2.75 0.0031  -4.8675 -0.6325   True\n",
      "         YöneticiBeş Ay             İşçiBir Yıl    -5.25    0.0  -7.3675 -3.1325   True\n",
      "         YöneticiBeş Ay     İşçiÜç Yıl ve Üzeri    -6.25    0.0  -8.3675 -4.1325   True\n",
      "         YöneticiBir Ay         YöneticiBir Yıl     3.25 0.0003   1.1325  5.3675   True\n",
      "         YöneticiBir Ay YöneticiÜç Yıl ve Üzeri     3.75    0.0   1.6325  5.8675   True\n",
      "         YöneticiBir Ay              İşçiBeş Ay     -1.5 0.3877  -3.6175  0.6175  False\n",
      "         YöneticiBir Ay              İşçiBir Ay    -0.75 0.9819  -2.8675  1.3675  False\n",
      "         YöneticiBir Ay             İşçiBir Yıl    -3.25 0.0003  -5.3675 -1.1325   True\n",
      "         YöneticiBir Ay     İşçiÜç Yıl ve Üzeri    -4.25    0.0  -6.3675 -2.1325   True\n",
      "        YöneticiBir Yıl YöneticiÜç Yıl ve Üzeri      0.5 0.9994  -1.6175  2.6175  False\n",
      "        YöneticiBir Yıl              İşçiBeş Ay    -4.75    0.0  -6.8675 -2.6325   True\n",
      "        YöneticiBir Yıl              İşçiBir Ay     -4.0    0.0  -6.1175 -1.8825   True\n",
      "        YöneticiBir Yıl             İşçiBir Yıl     -6.5    0.0  -8.6175 -4.3825   True\n",
      "        YöneticiBir Yıl     İşçiÜç Yıl ve Üzeri     -7.5    0.0  -9.6175 -5.3825   True\n",
      "YöneticiÜç Yıl ve Üzeri              İşçiBeş Ay    -5.25    0.0  -7.3675 -3.1325   True\n",
      "YöneticiÜç Yıl ve Üzeri              İşçiBir Ay     -4.5    0.0  -6.6175 -2.3825   True\n",
      "YöneticiÜç Yıl ve Üzeri             İşçiBir Yıl     -7.0    0.0  -9.1175 -4.8825   True\n",
      "YöneticiÜç Yıl ve Üzeri     İşçiÜç Yıl ve Üzeri     -8.0    0.0 -10.1175 -5.8825   True\n",
      "             İşçiBeş Ay              İşçiBir Ay     0.75 0.9819  -1.3675  2.8675  False\n",
      "             İşçiBeş Ay             İşçiBir Yıl    -1.75 0.1893  -3.8675  0.3675  False\n",
      "             İşçiBeş Ay     İşçiÜç Yıl ve Üzeri    -2.75 0.0031  -4.8675 -0.6325   True\n",
      "             İşçiBir Ay             İşçiBir Yıl     -2.5 0.0098  -4.6175 -0.3825   True\n",
      "             İşçiBir Ay     İşçiÜç Yıl ve Üzeri     -3.5 0.0001  -5.6175 -1.3825   True\n",
      "            İşçiBir Yıl     İşçiÜç Yıl ve Üzeri     -1.0  0.879  -3.1175  1.1175  False\n",
      "---------------------------------------------------------------------------------------\n"
     ]
    }
   ],
   "source": [
    "mevki_ve_sure = ss.multicomp.pairwise_tukeyhsd(endog=data[\"Performans\"], groups=data[\"Mevki\"]+data[\"Süre\"])\n",
    "print(mevki_ve_sure)"
   ]
  },
  {
   "cell_type": "code",
   "execution_count": 32,
   "id": "5712ae80",
   "metadata": {},
   "outputs": [
    {
     "data": {
      "text/html": [
       "<div>\n",
       "<style scoped>\n",
       "    .dataframe tbody tr th:only-of-type {\n",
       "        vertical-align: middle;\n",
       "    }\n",
       "\n",
       "    .dataframe tbody tr th {\n",
       "        vertical-align: top;\n",
       "    }\n",
       "\n",
       "    .dataframe thead tr th {\n",
       "        text-align: left;\n",
       "    }\n",
       "\n",
       "    .dataframe thead tr:last-of-type th {\n",
       "        text-align: right;\n",
       "    }\n",
       "</style>\n",
       "<table border=\"1\" class=\"dataframe\">\n",
       "  <thead>\n",
       "    <tr>\n",
       "      <th></th>\n",
       "      <th colspan=\"4\" halign=\"left\">Performans</th>\n",
       "    </tr>\n",
       "    <tr>\n",
       "      <th>Süre</th>\n",
       "      <th>Beş Ay</th>\n",
       "      <th>Bir Ay</th>\n",
       "      <th>Bir Yıl</th>\n",
       "      <th>Üç Yıl ve Üzeri</th>\n",
       "    </tr>\n",
       "    <tr>\n",
       "      <th>Mevki</th>\n",
       "      <th></th>\n",
       "      <th></th>\n",
       "      <th></th>\n",
       "      <th></th>\n",
       "    </tr>\n",
       "  </thead>\n",
       "  <tbody>\n",
       "    <tr>\n",
       "      <th>Ustabaşı</th>\n",
       "      <td>6.5</td>\n",
       "      <td>6.75</td>\n",
       "      <td>6.00</td>\n",
       "      <td>6.00</td>\n",
       "    </tr>\n",
       "    <tr>\n",
       "      <th>Yönetici</th>\n",
       "      <td>8.0</td>\n",
       "      <td>6.00</td>\n",
       "      <td>9.25</td>\n",
       "      <td>9.75</td>\n",
       "    </tr>\n",
       "    <tr>\n",
       "      <th>İşçi</th>\n",
       "      <td>4.5</td>\n",
       "      <td>5.25</td>\n",
       "      <td>2.75</td>\n",
       "      <td>1.75</td>\n",
       "    </tr>\n",
       "  </tbody>\n",
       "</table>\n",
       "</div>"
      ],
      "text/plain": [
       "         Performans                               \n",
       "Süre         Beş Ay Bir Ay Bir Yıl Üç Yıl ve Üzeri\n",
       "Mevki                                             \n",
       "Ustabaşı        6.5   6.75    6.00            6.00\n",
       "Yönetici        8.0   6.00    9.25            9.75\n",
       "İşçi            4.5   5.25    2.75            1.75"
      ]
     },
     "execution_count": 32,
     "metadata": {},
     "output_type": "execute_result"
    }
   ],
   "source": [
    "data.groupby([\"Mevki\", \"Süre\"]).mean().unstack()"
   ]
  },
  {
   "cell_type": "code",
   "execution_count": null,
   "id": "2aaad91c",
   "metadata": {},
   "outputs": [],
   "source": []
  }
 ],
 "metadata": {
  "kernelspec": {
   "display_name": "Python 3 (ipykernel)",
   "language": "python",
   "name": "python3"
  },
  "language_info": {
   "codemirror_mode": {
    "name": "ipython",
    "version": 3
   },
   "file_extension": ".py",
   "mimetype": "text/x-python",
   "name": "python",
   "nbconvert_exporter": "python",
   "pygments_lexer": "ipython3",
   "version": "3.9.16"
  }
 },
 "nbformat": 4,
 "nbformat_minor": 5
}
