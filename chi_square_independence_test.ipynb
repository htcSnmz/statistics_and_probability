{
 "cells": [
  {
   "cell_type": "markdown",
   "id": "a123698e",
   "metadata": {},
   "source": [
    "Kategorik iki değişken arasında bir ilişki olup olmadığı\n",
    "\n",
    "\n",
    "H0: İlişki yoktur.\n",
    "\n",
    "H1: İlişki vardır.\n",
    "\n",
    "2x2 frekans tablosu testleri\n",
    "----\n",
    "En küçük beklenen frekans > 25 ise Pearson Ki Kare Testi\n",
    "\n",
    "5 < En küçük beklenen frekans < 25 ise Yates Ki Kare Testi\n",
    "\n",
    "En küçük beklenen frekans < 5 ise Fisher Ki Kare Testi\n",
    "\n",
    "RxC frekans tablosu testleri\n",
    "----\n",
    "Beklenen frekansı 5'ten küçük olanların sayısı, toplam frekans içinde %20'den küçük ise Pearson Ki Kare Testi\n",
    "\n",
    "Beklenen frekansı 5'ten küçük olanların sayısı, toplam frekans içinde %20'den büyük ise Fisher Ki Kare Testi"
   ]
  },
  {
   "cell_type": "markdown",
   "id": "753a67f3",
   "metadata": {},
   "source": [
    "### 2x2 Örnek"
   ]
  },
  {
   "cell_type": "code",
   "execution_count": 2,
   "id": "b3d890ac",
   "metadata": {},
   "outputs": [],
   "source": [
    "import pandas as pd"
   ]
  },
  {
   "cell_type": "code",
   "execution_count": 7,
   "id": "b41a870f",
   "metadata": {},
   "outputs": [
    {
     "data": {
      "text/html": [
       "<div>\n",
       "<style scoped>\n",
       "    .dataframe tbody tr th:only-of-type {\n",
       "        vertical-align: middle;\n",
       "    }\n",
       "\n",
       "    .dataframe tbody tr th {\n",
       "        vertical-align: top;\n",
       "    }\n",
       "\n",
       "    .dataframe thead th {\n",
       "        text-align: right;\n",
       "    }\n",
       "</style>\n",
       "<table border=\"1\" class=\"dataframe\">\n",
       "  <thead>\n",
       "    <tr style=\"text-align: right;\">\n",
       "      <th></th>\n",
       "      <th>Cinsiyet</th>\n",
       "      <th>El</th>\n",
       "    </tr>\n",
       "  </thead>\n",
       "  <tbody>\n",
       "    <tr>\n",
       "      <th>0</th>\n",
       "      <td>Kadın</td>\n",
       "      <td>Sağ</td>\n",
       "    </tr>\n",
       "    <tr>\n",
       "      <th>1</th>\n",
       "      <td>Kadın</td>\n",
       "      <td>Sağ</td>\n",
       "    </tr>\n",
       "    <tr>\n",
       "      <th>2</th>\n",
       "      <td>Kadın</td>\n",
       "      <td>Sağ</td>\n",
       "    </tr>\n",
       "    <tr>\n",
       "      <th>3</th>\n",
       "      <td>Kadın</td>\n",
       "      <td>Sağ</td>\n",
       "    </tr>\n",
       "    <tr>\n",
       "      <th>4</th>\n",
       "      <td>Kadın</td>\n",
       "      <td>Sağ</td>\n",
       "    </tr>\n",
       "  </tbody>\n",
       "</table>\n",
       "</div>"
      ],
      "text/plain": [
       "  Cinsiyet   El\n",
       "0    Kadın  Sağ\n",
       "1    Kadın  Sağ\n",
       "2    Kadın  Sağ\n",
       "3    Kadın  Sağ\n",
       "4    Kadın  Sağ"
      ]
     },
     "execution_count": 7,
     "metadata": {},
     "output_type": "execute_result"
    }
   ],
   "source": [
    "data = pd.read_excel(\"C:/Users/htcso/OneDrive/Masaüstü/pythonProject/datasets/chi_sq_el.xlsx\")\n",
    "data.head()"
   ]
  },
  {
   "cell_type": "code",
   "execution_count": 8,
   "id": "23fd7805",
   "metadata": {},
   "outputs": [
    {
     "data": {
      "text/html": [
       "<div>\n",
       "<style scoped>\n",
       "    .dataframe tbody tr th:only-of-type {\n",
       "        vertical-align: middle;\n",
       "    }\n",
       "\n",
       "    .dataframe tbody tr th {\n",
       "        vertical-align: top;\n",
       "    }\n",
       "\n",
       "    .dataframe thead th {\n",
       "        text-align: right;\n",
       "    }\n",
       "</style>\n",
       "<table border=\"1\" class=\"dataframe\">\n",
       "  <thead>\n",
       "    <tr style=\"text-align: right;\">\n",
       "      <th>El</th>\n",
       "      <th>Sağ</th>\n",
       "      <th>Sol</th>\n",
       "    </tr>\n",
       "    <tr>\n",
       "      <th>Cinsiyet</th>\n",
       "      <th></th>\n",
       "      <th></th>\n",
       "    </tr>\n",
       "  </thead>\n",
       "  <tbody>\n",
       "    <tr>\n",
       "      <th>Erkek</th>\n",
       "      <td>39</td>\n",
       "      <td>4</td>\n",
       "    </tr>\n",
       "    <tr>\n",
       "      <th>Kadın</th>\n",
       "      <td>48</td>\n",
       "      <td>9</td>\n",
       "    </tr>\n",
       "  </tbody>\n",
       "</table>\n",
       "</div>"
      ],
      "text/plain": [
       "El        Sağ  Sol\n",
       "Cinsiyet          \n",
       "Erkek      39    4\n",
       "Kadın      48    9"
      ]
     },
     "execution_count": 8,
     "metadata": {},
     "output_type": "execute_result"
    }
   ],
   "source": [
    "table = pd.crosstab(index=data[\"Cinsiyet\"], columns = data[\"El\"])\n",
    "table"
   ]
  },
  {
   "cell_type": "code",
   "execution_count": 5,
   "id": "59f2b359",
   "metadata": {},
   "outputs": [],
   "source": [
    "from scipy import stats"
   ]
  },
  {
   "cell_type": "code",
   "execution_count": 9,
   "id": "b67f2bc2",
   "metadata": {},
   "outputs": [
    {
     "data": {
      "text/plain": [
       "array([[37.41,  5.59],\n",
       "       [49.59,  7.41]])"
      ]
     },
     "execution_count": 9,
     "metadata": {},
     "output_type": "execute_result"
    }
   ],
   "source": [
    "test, pvalue, fd, expected_val = stats.chi2_contingency(table)\n",
    "expected_val"
   ]
  },
  {
   "cell_type": "code",
   "execution_count": 11,
   "id": "6282a8bf",
   "metadata": {},
   "outputs": [],
   "source": [
    "# En küçük beklenen frekans 5.59 --> Yates Ki Kare Testi uygulanmalı."
   ]
  },
  {
   "cell_type": "code",
   "execution_count": 12,
   "id": "6359d592",
   "metadata": {},
   "outputs": [
    {
     "data": {
      "text/plain": [
       "0.33958793355294253"
      ]
     },
     "execution_count": 12,
     "metadata": {},
     "output_type": "execute_result"
    }
   ],
   "source": [
    "# En küçük beklenen frekans > 25 varsayarsak (Pearson Ki Kare Testi);\n",
    "test, pvalue, fd, expected_val = stats.chi2_contingency(table, correction=False)\n",
    "pvalue"
   ]
  },
  {
   "cell_type": "code",
   "execution_count": 13,
   "id": "e7bdd629",
   "metadata": {},
   "outputs": [],
   "source": [
    "# pvalue 0.33958793355294253 > 0.05 --> H0 Reddedilemez."
   ]
  },
  {
   "cell_type": "code",
   "execution_count": 14,
   "id": "c6a37afb",
   "metadata": {},
   "outputs": [
    {
     "data": {
      "text/plain": [
       "0.5126791767813199"
      ]
     },
     "execution_count": 14,
     "metadata": {},
     "output_type": "execute_result"
    }
   ],
   "source": [
    "# Yates Ki Kare Testi;\n",
    "test, pvalue, fd, expected_val = stats.chi2_contingency(table, correction=True)\n",
    "pvalue"
   ]
  },
  {
   "cell_type": "code",
   "execution_count": 15,
   "id": "a54de8e9",
   "metadata": {},
   "outputs": [],
   "source": [
    "# pvalue 0.5126791767813199 > 0.05 --> H0 Reddedilemez. Cinsiyet ve El kullanma arasında % 95 oranında ilişki yoktur."
   ]
  },
  {
   "cell_type": "code",
   "execution_count": 16,
   "id": "71a934c4",
   "metadata": {},
   "outputs": [
    {
     "data": {
      "text/plain": [
       "SignificanceResult(statistic=1.828125, pvalue=0.38516915722396994)"
      ]
     },
     "execution_count": 16,
     "metadata": {},
     "output_type": "execute_result"
    }
   ],
   "source": [
    "# En küçük beklenen frekans < 5 varsayarsak (Fisher Ki Kare Testi);\n",
    "test = stats.fisher_exact(table)\n",
    "test"
   ]
  },
  {
   "cell_type": "code",
   "execution_count": 17,
   "id": "db219fa9",
   "metadata": {},
   "outputs": [],
   "source": [
    "# pvalue 0.38516915722396994 > 0.05 --> H0 Reddedilemez."
   ]
  },
  {
   "cell_type": "markdown",
   "id": "0aa07679",
   "metadata": {},
   "source": [
    "### RxC Örnek"
   ]
  },
  {
   "cell_type": "code",
   "execution_count": 18,
   "id": "06324be6",
   "metadata": {},
   "outputs": [
    {
     "data": {
      "text/html": [
       "<div>\n",
       "<style scoped>\n",
       "    .dataframe tbody tr th:only-of-type {\n",
       "        vertical-align: middle;\n",
       "    }\n",
       "\n",
       "    .dataframe tbody tr th {\n",
       "        vertical-align: top;\n",
       "    }\n",
       "\n",
       "    .dataframe thead th {\n",
       "        text-align: right;\n",
       "    }\n",
       "</style>\n",
       "<table border=\"1\" class=\"dataframe\">\n",
       "  <thead>\n",
       "    <tr style=\"text-align: right;\">\n",
       "      <th></th>\n",
       "      <th>Cinsiyet</th>\n",
       "      <th>Marka</th>\n",
       "    </tr>\n",
       "  </thead>\n",
       "  <tbody>\n",
       "    <tr>\n",
       "      <th>0</th>\n",
       "      <td>Kadın</td>\n",
       "      <td>B</td>\n",
       "    </tr>\n",
       "    <tr>\n",
       "      <th>1</th>\n",
       "      <td>Kadın</td>\n",
       "      <td>C</td>\n",
       "    </tr>\n",
       "    <tr>\n",
       "      <th>2</th>\n",
       "      <td>Kadın</td>\n",
       "      <td>C</td>\n",
       "    </tr>\n",
       "    <tr>\n",
       "      <th>3</th>\n",
       "      <td>Erkek</td>\n",
       "      <td>C</td>\n",
       "    </tr>\n",
       "    <tr>\n",
       "      <th>4</th>\n",
       "      <td>Erkek</td>\n",
       "      <td>A</td>\n",
       "    </tr>\n",
       "  </tbody>\n",
       "</table>\n",
       "</div>"
      ],
      "text/plain": [
       "  Cinsiyet Marka\n",
       "0    Kadın     B\n",
       "1    Kadın     C\n",
       "2    Kadın     C\n",
       "3    Erkek     C\n",
       "4    Erkek     A"
      ]
     },
     "execution_count": 18,
     "metadata": {},
     "output_type": "execute_result"
    }
   ],
   "source": [
    "data_rc = pd.read_excel(\"C:/Users/htcso/OneDrive/Masaüstü/pythonProject/datasets/chi_sq_rc.xlsx\")\n",
    "data_rc.head()"
   ]
  },
  {
   "cell_type": "code",
   "execution_count": 19,
   "id": "2347a204",
   "metadata": {},
   "outputs": [
    {
     "data": {
      "text/html": [
       "<div>\n",
       "<style scoped>\n",
       "    .dataframe tbody tr th:only-of-type {\n",
       "        vertical-align: middle;\n",
       "    }\n",
       "\n",
       "    .dataframe tbody tr th {\n",
       "        vertical-align: top;\n",
       "    }\n",
       "\n",
       "    .dataframe thead th {\n",
       "        text-align: right;\n",
       "    }\n",
       "</style>\n",
       "<table border=\"1\" class=\"dataframe\">\n",
       "  <thead>\n",
       "    <tr style=\"text-align: right;\">\n",
       "      <th>Marka</th>\n",
       "      <th>A</th>\n",
       "      <th>B</th>\n",
       "      <th>C</th>\n",
       "      <th>D</th>\n",
       "    </tr>\n",
       "    <tr>\n",
       "      <th>Cinsiyet</th>\n",
       "      <th></th>\n",
       "      <th></th>\n",
       "      <th></th>\n",
       "      <th></th>\n",
       "    </tr>\n",
       "  </thead>\n",
       "  <tbody>\n",
       "    <tr>\n",
       "      <th>Erkek</th>\n",
       "      <td>1</td>\n",
       "      <td>1</td>\n",
       "      <td>3</td>\n",
       "      <td>1</td>\n",
       "    </tr>\n",
       "    <tr>\n",
       "      <th>Kadın</th>\n",
       "      <td>3</td>\n",
       "      <td>4</td>\n",
       "      <td>6</td>\n",
       "      <td>5</td>\n",
       "    </tr>\n",
       "  </tbody>\n",
       "</table>\n",
       "</div>"
      ],
      "text/plain": [
       "Marka     A  B  C  D\n",
       "Cinsiyet            \n",
       "Erkek     1  1  3  1\n",
       "Kadın     3  4  6  5"
      ]
     },
     "execution_count": 19,
     "metadata": {},
     "output_type": "execute_result"
    }
   ],
   "source": [
    "table_rc = pd.crosstab(index=data_rc[\"Cinsiyet\"], columns=data_rc[\"Marka\"])\n",
    "table_rc"
   ]
  },
  {
   "cell_type": "code",
   "execution_count": 21,
   "id": "c7c132e7",
   "metadata": {},
   "outputs": [
    {
     "data": {
      "text/plain": [
       "array([[1.  , 1.25, 2.25, 1.5 ],\n",
       "       [3.  , 3.75, 6.75, 4.5 ]])"
      ]
     },
     "execution_count": 21,
     "metadata": {},
     "output_type": "execute_result"
    }
   ],
   "source": [
    "test, pvalue, fd, expected_vals = stats.chi2_contingency(table_rc)\n",
    "expected_vals"
   ]
  },
  {
   "cell_type": "code",
   "execution_count": 23,
   "id": "9fb37fde",
   "metadata": {},
   "outputs": [
    {
     "data": {
      "text/plain": [
       "0.875"
      ]
     },
     "execution_count": 23,
     "metadata": {},
     "output_type": "execute_result"
    }
   ],
   "source": [
    "less = []\n",
    "sum_ = []\n",
    "\n",
    "for i in expected_vals:\n",
    "    for j in i:\n",
    "        if j < 5:\n",
    "            less.append(j)\n",
    "        sum_.append(j)\n",
    "        \n",
    "len(less) /  len(sum_)"
   ]
  },
  {
   "cell_type": "code",
   "execution_count": 24,
   "id": "c07804a8",
   "metadata": {},
   "outputs": [],
   "source": [
    "# Beklenen frekans 0.875\n",
    "# Beklenen frekansı 5'ten küçük olanların sayısı, toplam frekans içinde %20'den büyük old. için Fisher Ki Kare Testi uygulanmalı"
   ]
  },
  {
   "cell_type": "code",
   "execution_count": 25,
   "id": "6fa19102",
   "metadata": {},
   "outputs": [
    {
     "data": {
      "text/plain": [
       "0.8913267885846314"
      ]
     },
     "execution_count": 25,
     "metadata": {},
     "output_type": "execute_result"
    }
   ],
   "source": [
    "# Pearson Ki Kare Testi;\n",
    "test, pvalue, fd, expected_vals = stats.chi2_contingency(table_rc, correction=False)\n",
    "pvalue"
   ]
  },
  {
   "cell_type": "code",
   "execution_count": 29,
   "id": "2af57497",
   "metadata": {},
   "outputs": [],
   "source": [
    "# Fisher Ki Kare Testi;\n",
    "# Yaygın değildir.\n",
    "# Python'da yerleşik bir fonksiyon yoktur. SPSS ya da R kodları kullanlabililir"
   ]
  },
  {
   "cell_type": "code",
   "execution_count": null,
   "id": "a3f701d6",
   "metadata": {},
   "outputs": [],
   "source": []
  }
 ],
 "metadata": {
  "kernelspec": {
   "display_name": "Python 3 (ipykernel)",
   "language": "python",
   "name": "python3"
  },
  "language_info": {
   "codemirror_mode": {
    "name": "ipython",
    "version": 3
   },
   "file_extension": ".py",
   "mimetype": "text/x-python",
   "name": "python",
   "nbconvert_exporter": "python",
   "pygments_lexer": "ipython3",
   "version": "3.9.16"
  }
 },
 "nbformat": 4,
 "nbformat_minor": 5
}
