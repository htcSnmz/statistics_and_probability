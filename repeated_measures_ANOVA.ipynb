{
 "cells": [
  {
   "cell_type": "markdown",
   "id": "b8408dc1",
   "metadata": {},
   "source": [
    "##### Gözlemler bağımsız\n",
    "##### Normallik varsayımı ve varyans homojenliği\n",
    "##### Küresellik Varsayımı (Mauchly Testi)\n",
    "##### Küresellik Varsayımı geçerli değilse anova için Greehouse-Geisser testi\n",
    "##### H0: MÖ = MS1 = MS2 = .... = Mk"
   ]
  },
  {
   "cell_type": "markdown",
   "id": "170671e7",
   "metadata": {},
   "source": [
    "##### Sigara içenlerin tedavi öncesi ve tedaviden sonraki süreçteki kan değerleri ortalamları arasında anl. fark var mıdır?"
   ]
  },
  {
   "cell_type": "code",
   "execution_count": 1,
   "id": "577038b5",
   "metadata": {},
   "outputs": [],
   "source": [
    "import pandas as pd"
   ]
  },
  {
   "cell_type": "code",
   "execution_count": 2,
   "id": "c7f3ae88",
   "metadata": {},
   "outputs": [
    {
     "data": {
      "text/html": [
       "<div>\n",
       "<style scoped>\n",
       "    .dataframe tbody tr th:only-of-type {\n",
       "        vertical-align: middle;\n",
       "    }\n",
       "\n",
       "    .dataframe tbody tr th {\n",
       "        vertical-align: top;\n",
       "    }\n",
       "\n",
       "    .dataframe thead th {\n",
       "        text-align: right;\n",
       "    }\n",
       "</style>\n",
       "<table border=\"1\" class=\"dataframe\">\n",
       "  <thead>\n",
       "    <tr style=\"text-align: right;\">\n",
       "      <th></th>\n",
       "      <th>Örneklem</th>\n",
       "      <th>TÖ</th>\n",
       "      <th>TS1</th>\n",
       "      <th>TS2</th>\n",
       "      <th>TS3</th>\n",
       "    </tr>\n",
       "  </thead>\n",
       "  <tbody>\n",
       "    <tr>\n",
       "      <th>0</th>\n",
       "      <td>1</td>\n",
       "      <td>70</td>\n",
       "      <td>86</td>\n",
       "      <td>80</td>\n",
       "      <td>87</td>\n",
       "    </tr>\n",
       "    <tr>\n",
       "      <th>1</th>\n",
       "      <td>2</td>\n",
       "      <td>78</td>\n",
       "      <td>82</td>\n",
       "      <td>77</td>\n",
       "      <td>80</td>\n",
       "    </tr>\n",
       "    <tr>\n",
       "      <th>2</th>\n",
       "      <td>3</td>\n",
       "      <td>61</td>\n",
       "      <td>70</td>\n",
       "      <td>64</td>\n",
       "      <td>72</td>\n",
       "    </tr>\n",
       "    <tr>\n",
       "      <th>3</th>\n",
       "      <td>4</td>\n",
       "      <td>70</td>\n",
       "      <td>74</td>\n",
       "      <td>68</td>\n",
       "      <td>88</td>\n",
       "    </tr>\n",
       "    <tr>\n",
       "      <th>4</th>\n",
       "      <td>5</td>\n",
       "      <td>89</td>\n",
       "      <td>105</td>\n",
       "      <td>89</td>\n",
       "      <td>101</td>\n",
       "    </tr>\n",
       "  </tbody>\n",
       "</table>\n",
       "</div>"
      ],
      "text/plain": [
       "   Örneklem  TÖ  TS1  TS2  TS3\n",
       "0         1  70   86   80   87\n",
       "1         2  78   82   77   80\n",
       "2         3  61   70   64   72\n",
       "3         4  70   74   68   88\n",
       "4         5  89  105   89  101"
      ]
     },
     "execution_count": 2,
     "metadata": {},
     "output_type": "execute_result"
    }
   ],
   "source": [
    "data = pd.read_excel(\"C:/Users/htcso/OneDrive/Masaüstü/pythonProject/datasets/ornek_repeated_anova.xlsx\")\n",
    "data.head()"
   ]
  },
  {
   "cell_type": "code",
   "execution_count": 3,
   "id": "1dc2cf05",
   "metadata": {},
   "outputs": [
    {
     "data": {
      "text/html": [
       "<div>\n",
       "<style scoped>\n",
       "    .dataframe tbody tr th:only-of-type {\n",
       "        vertical-align: middle;\n",
       "    }\n",
       "\n",
       "    .dataframe tbody tr th {\n",
       "        vertical-align: top;\n",
       "    }\n",
       "\n",
       "    .dataframe thead th {\n",
       "        text-align: right;\n",
       "    }\n",
       "</style>\n",
       "<table border=\"1\" class=\"dataframe\">\n",
       "  <thead>\n",
       "    <tr style=\"text-align: right;\">\n",
       "      <th></th>\n",
       "      <th>Örneklem</th>\n",
       "      <th>Testler</th>\n",
       "      <th>Kan Değeri</th>\n",
       "    </tr>\n",
       "  </thead>\n",
       "  <tbody>\n",
       "    <tr>\n",
       "      <th>0</th>\n",
       "      <td>1</td>\n",
       "      <td>TÖ</td>\n",
       "      <td>70</td>\n",
       "    </tr>\n",
       "    <tr>\n",
       "      <th>1</th>\n",
       "      <td>2</td>\n",
       "      <td>TÖ</td>\n",
       "      <td>78</td>\n",
       "    </tr>\n",
       "    <tr>\n",
       "      <th>2</th>\n",
       "      <td>3</td>\n",
       "      <td>TÖ</td>\n",
       "      <td>61</td>\n",
       "    </tr>\n",
       "    <tr>\n",
       "      <th>3</th>\n",
       "      <td>4</td>\n",
       "      <td>TÖ</td>\n",
       "      <td>70</td>\n",
       "    </tr>\n",
       "    <tr>\n",
       "      <th>4</th>\n",
       "      <td>5</td>\n",
       "      <td>TÖ</td>\n",
       "      <td>89</td>\n",
       "    </tr>\n",
       "  </tbody>\n",
       "</table>\n",
       "</div>"
      ],
      "text/plain": [
       "   Örneklem Testler  Kan Değeri\n",
       "0         1      TÖ          70\n",
       "1         2      TÖ          78\n",
       "2         3      TÖ          61\n",
       "3         4      TÖ          70\n",
       "4         5      TÖ          89"
      ]
     },
     "execution_count": 3,
     "metadata": {},
     "output_type": "execute_result"
    }
   ],
   "source": [
    "data_ = pd.melt(data, id_vars=[\"Örneklem\"], value_vars=[\"TÖ\", \"TS1\", \"TS2\", \"TS3\"])\n",
    "data_.columns = [\"Örneklem\", \"Testler\", \"Kan Değeri\"]\n",
    "data_.head()"
   ]
  },
  {
   "cell_type": "markdown",
   "id": "497dba69",
   "metadata": {},
   "source": [
    "##### Normallik Testi"
   ]
  },
  {
   "cell_type": "code",
   "execution_count": 5,
   "id": "09b2c648",
   "metadata": {},
   "outputs": [],
   "source": [
    "import pingouin as pg"
   ]
  },
  {
   "cell_type": "code",
   "execution_count": 6,
   "id": "174de480",
   "metadata": {},
   "outputs": [
    {
     "name": "stdout",
     "output_type": "stream",
     "text": [
      "                W      pval  normal\n",
      "Testler                            \n",
      "TÖ       0.968747  0.883916    True\n",
      "TS1      0.912647  0.454037    True\n",
      "TS2      0.924451  0.537977    True\n",
      "TS3      0.943039  0.683773    True\n"
     ]
    }
   ],
   "source": [
    "normality = pg.normality(data=data_, dv=\"Kan Değeri\", group=\"Testler\", method=\"shapiro\")\n",
    "print(normality)"
   ]
  },
  {
   "cell_type": "markdown",
   "id": "525b707f",
   "metadata": {},
   "source": [
    "##### Küresellik Testi"
   ]
  },
  {
   "cell_type": "code",
   "execution_count": 7,
   "id": "3b3de611",
   "metadata": {},
   "outputs": [
    {
     "name": "stdout",
     "output_type": "stream",
     "text": [
      "SpherResults(spher=True, W=0.8329041323515878, chi2=0.6805589418687861, dof=5, pval=0.9845576556461296)\n"
     ]
    }
   ],
   "source": [
    "sphericity = pg.sphericity(data=data_, dv=\"Kan Değeri\", subject=\"Örneklem\", within=\"Testler\")\n",
    "print(sphericity)"
   ]
  },
  {
   "cell_type": "code",
   "execution_count": 8,
   "id": "351e7dac",
   "metadata": {},
   "outputs": [],
   "source": [
    "# pval=0.9845576556461296 > 0.05 --> Küresellik varsayımı geçerlidir"
   ]
  },
  {
   "cell_type": "markdown",
   "id": "2020920c",
   "metadata": {},
   "source": [
    "##### ANOVA"
   ]
  },
  {
   "cell_type": "code",
   "execution_count": 9,
   "id": "10be5415",
   "metadata": {},
   "outputs": [
    {
     "name": "stdout",
     "output_type": "stream",
     "text": [
      "    Source  ddof1  ddof2         F     p-unc      ng2       eps\n",
      "0  Testler      3     15  8.575713  0.001485  0.18215  0.896743\n"
     ]
    }
   ],
   "source": [
    "anova = pg.rm_anova(data=data_, dv=\"Kan Değeri\", subject=\"Örneklem\", within=\"Testler\")\n",
    "print(anova)"
   ]
  },
  {
   "cell_type": "code",
   "execution_count": 10,
   "id": "d20f96bc",
   "metadata": {},
   "outputs": [],
   "source": [
    "# p-unc 0.001485 < 0.05 --> Gruplar arası anlamlı fark vardır."
   ]
  },
  {
   "cell_type": "markdown",
   "id": "38042a1e",
   "metadata": {},
   "source": [
    "##### Post Hoc Testi"
   ]
  },
  {
   "cell_type": "code",
   "execution_count": 12,
   "id": "ea8b78cd",
   "metadata": {},
   "outputs": [
    {
     "name": "stderr",
     "output_type": "stream",
     "text": [
      "C:\\Users\\htcso\\AppData\\Roaming\\Python\\Python39\\site-packages\\pingouin\\pairwise.py:28: UserWarning: pairwise_ttests is deprecated, use pairwise_tests instead.\n",
      "  warnings.warn(\"pairwise_ttests is deprecated, use pairwise_tests instead.\", UserWarning)\n"
     ]
    },
    {
     "name": "stdout",
     "output_type": "stream",
     "text": [
      "  Contrast    A    B  Paired  Parametric         T  dof alternative     p-unc  \\\n",
      "0  Testler  TS1  TS2    True        True  2.254548  5.0   two-sided  0.073855   \n",
      "1  Testler  TS1  TS3    True        True -0.909782  5.0   two-sided  0.404659   \n",
      "2  Testler  TS1   TÖ    True        True  3.849295  5.0   two-sided  0.012010   \n",
      "3  Testler  TS2  TS3    True        True -2.738328  5.0   two-sided  0.040873   \n",
      "4  Testler  TS2   TÖ    True        True  1.493703  5.0   two-sided  0.195478   \n",
      "5  Testler  TS3   TÖ    True        True  4.687983  5.0   two-sided  0.005395   \n",
      "\n",
      "     p-corr p-adjust    BF10    hedges  \n",
      "0  0.443127     bonf   1.576  0.478782  \n",
      "1  1.000000     bonf   0.515 -0.196102  \n",
      "2  0.072058     bonf   6.012  0.755557  \n",
      "3  0.245240     bonf    2.42 -0.759886  \n",
      "4  1.000000     bonf   0.803  0.294251  \n",
      "5  0.032369     bonf  11.003  1.085784  \n"
     ]
    }
   ],
   "source": [
    "ph = pg.pairwise_ttests(data=data_, dv=\"Kan Değeri\", subject=\"Örneklem\", within=\"Testler\", padjust=\"bonf\")\n",
    "print(ph)"
   ]
  },
  {
   "cell_type": "code",
   "execution_count": 13,
   "id": "2f8d7fb1",
   "metadata": {},
   "outputs": [],
   "source": [
    "# p-corr < 0.05 olan gruplar arasında anlamlı farklılık vardır. (TÖ - TS3)"
   ]
  },
  {
   "cell_type": "code",
   "execution_count": 16,
   "id": "166db2f2",
   "metadata": {},
   "outputs": [
    {
     "data": {
      "text/plain": [
       "Testler\n",
       "TS1    83.500000\n",
       "TS2    77.666667\n",
       "TS3    85.833333\n",
       "TÖ     74.500000\n",
       "Name: Kan Değeri, dtype: float64"
      ]
     },
     "execution_count": 16,
     "metadata": {},
     "output_type": "execute_result"
    }
   ],
   "source": [
    "data_.groupby(\"Testler\")[\"Kan Değeri\"].mean()"
   ]
  },
  {
   "cell_type": "code",
   "execution_count": 17,
   "id": "7dd088a7",
   "metadata": {},
   "outputs": [],
   "source": [
    "# Kan değerleri ortalaması TS3'te istenen düzeyde ise tedavinin 3. aşamaya kadar devam etmesinde fayda vardır denebilir."
   ]
  },
  {
   "cell_type": "code",
   "execution_count": null,
   "id": "1eda0a0d",
   "metadata": {},
   "outputs": [],
   "source": []
  }
 ],
 "metadata": {
  "kernelspec": {
   "display_name": "Python 3 (ipykernel)",
   "language": "python",
   "name": "python3"
  },
  "language_info": {
   "codemirror_mode": {
    "name": "ipython",
    "version": 3
   },
   "file_extension": ".py",
   "mimetype": "text/x-python",
   "name": "python",
   "nbconvert_exporter": "python",
   "pygments_lexer": "ipython3",
   "version": "3.9.16"
  }
 },
 "nbformat": 4,
 "nbformat_minor": 5
}
