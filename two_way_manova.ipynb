{
 "cells": [
  {
   "cell_type": "markdown",
   "id": "cc7fb61d",
   "metadata": {},
   "source": [
    "VARSAYIMLAR\n",
    "-------------\n",
    "Birden fazla bağımsız değişken, 2 bağımlı değişken\n",
    "\n",
    "Gözlemler bağımsız\n",
    "\n",
    "Normallik, varyans homojenliği, varyans-kovaryans matrisi eşitliği"
   ]
  },
  {
   "cell_type": "markdown",
   "id": "58e8e116",
   "metadata": {},
   "source": [
    "#### Çalışanların mevkileri ve departmanlarının, bu çalışanların performansları ve firmayı sahiplenme puanlarına anl. bir etkisi var mı?"
   ]
  },
  {
   "cell_type": "code",
   "execution_count": 1,
   "id": "52e59178",
   "metadata": {},
   "outputs": [],
   "source": [
    "import pandas as pd"
   ]
  },
  {
   "cell_type": "code",
   "execution_count": 2,
   "id": "a6b61e1f",
   "metadata": {},
   "outputs": [],
   "source": [
    "data = pd.read_excel(\"C:/Users/htcso/OneDrive/Masaüstü/pythonProject/datasets/two_way_manova_ornek.xlsx\")"
   ]
  },
  {
   "cell_type": "code",
   "execution_count": 3,
   "id": "d31aff63",
   "metadata": {},
   "outputs": [
    {
     "data": {
      "text/html": [
       "<div>\n",
       "<style scoped>\n",
       "    .dataframe tbody tr th:only-of-type {\n",
       "        vertical-align: middle;\n",
       "    }\n",
       "\n",
       "    .dataframe tbody tr th {\n",
       "        vertical-align: top;\n",
       "    }\n",
       "\n",
       "    .dataframe thead th {\n",
       "        text-align: right;\n",
       "    }\n",
       "</style>\n",
       "<table border=\"1\" class=\"dataframe\">\n",
       "  <thead>\n",
       "    <tr style=\"text-align: right;\">\n",
       "      <th></th>\n",
       "      <th>Mevki</th>\n",
       "      <th>Departman</th>\n",
       "      <th>Performans</th>\n",
       "      <th>Sahiplenme</th>\n",
       "    </tr>\n",
       "  </thead>\n",
       "  <tbody>\n",
       "    <tr>\n",
       "      <th>0</th>\n",
       "      <td>İşçi</td>\n",
       "      <td>Muhasebe</td>\n",
       "      <td>6</td>\n",
       "      <td>6</td>\n",
       "    </tr>\n",
       "    <tr>\n",
       "      <th>1</th>\n",
       "      <td>Müdür</td>\n",
       "      <td>Finans</td>\n",
       "      <td>5</td>\n",
       "      <td>7</td>\n",
       "    </tr>\n",
       "    <tr>\n",
       "      <th>2</th>\n",
       "      <td>Yönetici</td>\n",
       "      <td>Muhasebe</td>\n",
       "      <td>6</td>\n",
       "      <td>4</td>\n",
       "    </tr>\n",
       "    <tr>\n",
       "      <th>3</th>\n",
       "      <td>İşçi</td>\n",
       "      <td>Üretim</td>\n",
       "      <td>7</td>\n",
       "      <td>7</td>\n",
       "    </tr>\n",
       "    <tr>\n",
       "      <th>4</th>\n",
       "      <td>Müdür</td>\n",
       "      <td>Arge</td>\n",
       "      <td>7</td>\n",
       "      <td>5</td>\n",
       "    </tr>\n",
       "  </tbody>\n",
       "</table>\n",
       "</div>"
      ],
      "text/plain": [
       "      Mevki Departman  Performans  Sahiplenme\n",
       "0      İşçi  Muhasebe           6           6\n",
       "1     Müdür    Finans           5           7\n",
       "2  Yönetici  Muhasebe           6           4\n",
       "3      İşçi    Üretim           7           7\n",
       "4     Müdür      Arge           7           5"
      ]
     },
     "execution_count": 3,
     "metadata": {},
     "output_type": "execute_result"
    }
   ],
   "source": [
    "data.head()"
   ]
  },
  {
   "cell_type": "code",
   "execution_count": 4,
   "id": "2a738a3f",
   "metadata": {},
   "outputs": [],
   "source": [
    "# Varsayımların doğru olduğu kabuluyle"
   ]
  },
  {
   "cell_type": "code",
   "execution_count": 5,
   "id": "7d9d9fba",
   "metadata": {},
   "outputs": [],
   "source": [
    "from statsmodels.multivariate.manova import MANOVA"
   ]
  },
  {
   "cell_type": "code",
   "execution_count": 7,
   "id": "b5787d8d",
   "metadata": {},
   "outputs": [
    {
     "name": "stdout",
     "output_type": "stream",
     "text": [
      "                  Multivariate linear model\n",
      "=============================================================\n",
      "                                                             \n",
      "-------------------------------------------------------------\n",
      "        Intercept        Value  Num DF  Den DF F Value Pr > F\n",
      "-------------------------------------------------------------\n",
      "           Wilks' lambda 0.1904 2.0000 20.0000 42.5090 0.0000\n",
      "          Pillai's trace 0.8096 2.0000 20.0000 42.5090 0.0000\n",
      "  Hotelling-Lawley trace 4.2509 2.0000 20.0000 42.5090 0.0000\n",
      "     Roy's greatest root 4.2509 2.0000 20.0000 42.5090 0.0000\n",
      "-------------------------------------------------------------\n",
      "                                                             \n",
      "-------------------------------------------------------------\n",
      "          Mevki          Value  Num DF  Den DF F Value Pr > F\n",
      "-------------------------------------------------------------\n",
      "           Wilks' lambda 0.9652 4.0000 40.0000  0.1785 0.9482\n",
      "          Pillai's trace 0.0350 4.0000 42.0000  0.1872 0.9438\n",
      "  Hotelling-Lawley trace 0.0358 4.0000 23.0000  0.1762 0.9484\n",
      "     Roy's greatest root 0.0246 2.0000 21.0000  0.2583 0.7748\n",
      "-------------------------------------------------------------\n",
      "                                                             \n",
      "-------------------------------------------------------------\n",
      "        Departman        Value  Num DF  Den DF F Value Pr > F\n",
      "-------------------------------------------------------------\n",
      "           Wilks' lambda 0.8616 6.0000 40.0000  0.5155 0.7930\n",
      "          Pillai's trace 0.1417 6.0000 42.0000  0.5338 0.7794\n",
      "  Hotelling-Lawley trace 0.1568 6.0000 24.9655  0.5113 0.7940\n",
      "     Roy's greatest root 0.1263 3.0000 21.0000  0.8844 0.4652\n",
      "-------------------------------------------------------------\n",
      "                                                             \n",
      "-------------------------------------------------------------\n",
      "    Mevki:Departman     Value   Num DF  Den DF F Value Pr > F\n",
      "-------------------------------------------------------------\n",
      "          Wilks' lambda 0.6824 12.0000 40.0000  0.7017 0.7402\n",
      "         Pillai's trace 0.3476 12.0000 42.0000  0.7362 0.7086\n",
      " Hotelling-Lawley trace 0.4214 12.0000 28.1818  0.6804 0.7556\n",
      "    Roy's greatest root 0.2310  6.0000 21.0000  0.8085 0.5749\n",
      "=============================================================\n",
      "\n"
     ]
    }
   ],
   "source": [
    "manova = MANOVA.from_formula(\"Performans + Sahiplenme ~ Mevki + Departman +  Mevki:Departman\", data=data)\n",
    "print(manova.mv_test())"
   ]
  },
  {
   "cell_type": "code",
   "execution_count": 8,
   "id": "bdb29393",
   "metadata": {},
   "outputs": [],
   "source": [
    "# Pr > F değerleri > 0.05 olduğundan hem Mevki hem de Dpartman değişkenlerinin tek başlarına Performans ve Sahiplenme\n",
    "# değerlerine etkisi yoktur.\n",
    "# Mevki ve Departman değişkenlerinin birlikte de Performans ve Sahiplenme değerlerine etkisi yoktur."
   ]
  },
  {
   "cell_type": "code",
   "execution_count": 9,
   "id": "9dfd27c4",
   "metadata": {},
   "outputs": [],
   "source": [
    "##### Etki var olsaydı Post Hoc Testi"
   ]
  },
  {
   "cell_type": "code",
   "execution_count": 10,
   "id": "1640b20f",
   "metadata": {},
   "outputs": [
    {
     "name": "stdout",
     "output_type": "stream",
     "text": [
      "          A         B   mean(A)   mean(B)      diff        se        T  \\\n",
      "0     Müdür  Yönetici  6.636364  6.454545  0.181818  0.452724  0.40161   \n",
      "1     Müdür      İşçi  6.636364  6.636364  0.000000  0.452724  0.00000   \n",
      "2  Yönetici      İşçi  6.454545  6.636364 -0.181818  0.452724 -0.40161   \n",
      "\n",
      "    p-tukey    hedges  \n",
      "0  0.915185  0.155601  \n",
      "1  1.000000  0.000000  \n",
      "2  0.915185 -0.169601  \n",
      "          A         B   mean(A)   mean(B)      diff        se         T  \\\n",
      "0      Arge    Finans  6.500000  6.750000 -0.250000  0.654889 -0.381744   \n",
      "1      Arge  Muhasebe  6.500000  6.333333  0.166667  0.642647  0.259344   \n",
      "2      Arge    Üretim  6.500000  6.666667 -0.166667  0.617435 -0.269934   \n",
      "3    Finans  Muhasebe  6.750000  6.333333  0.416667  0.519649  0.801823   \n",
      "4    Finans    Üretim  6.750000  6.666667  0.083333  0.488125  0.170721   \n",
      "5  Muhasebe    Üretim  6.333333  6.666667 -0.333333  0.471574 -0.706853   \n",
      "\n",
      "    p-tukey    hedges  \n",
      "0  0.980696 -0.225208  \n",
      "1  0.993750  0.171402  \n",
      "2  0.992969 -0.148958  \n",
      "3  0.852996  0.366144  \n",
      "4  0.998189  0.068881  \n",
      "5  0.893555 -0.292977  \n",
      "          A         B   mean(A)   mean(B)      diff        se         T  \\\n",
      "0     Müdür  Yönetici  4.090909  5.000000 -0.909091  0.753321 -1.206777   \n",
      "1     Müdür      İşçi  4.090909  5.454545 -1.363636  0.753321 -1.810165   \n",
      "2  Yönetici      İşçi  5.000000  5.454545 -0.454545  0.753321 -0.603388   \n",
      "\n",
      "    p-tukey    hedges  \n",
      "0  0.458486 -0.440297  \n",
      "1  0.183494 -0.747277  \n",
      "2  0.819357 -0.286084  \n",
      "          A         B   mean(A)   mean(B)      diff        se         T  \\\n",
      "0      Arge    Finans  4.000000  4.125000 -0.125000  1.095232 -0.114131   \n",
      "1      Arge  Muhasebe  4.000000  5.444444 -1.444444  1.074759 -1.343971   \n",
      "2      Arge    Üretim  4.000000  5.166667 -1.166667  1.032595 -1.129840   \n",
      "3    Finans  Muhasebe  4.125000  5.444444 -1.319444  0.869058 -1.518247   \n",
      "4    Finans    Üretim  4.125000  5.166667 -1.041667  0.816338 -1.276024   \n",
      "5  Muhasebe    Üretim  5.444444  5.166667  0.277778  0.788657  0.352216   \n",
      "\n",
      "    p-tukey    hedges  \n",
      "0  0.999455 -0.063638  \n",
      "1  0.543410 -0.810635  \n",
      "2  0.674451 -0.639377  \n",
      "3  0.440000 -0.678538  \n",
      "4  0.585045 -0.535218  \n",
      "5  0.984704  0.150201  \n"
     ]
    }
   ],
   "source": [
    "import pingouin as pg\n",
    "ph1 = pg.pairwise_tukey(data, dv=\"Performans\", between=\"Mevki\")\n",
    "ph2 = pg.pairwise_tukey(data, dv=\"Performans\", between=\"Departman\")\n",
    "ph3 = pg.pairwise_tukey(data, dv=\"Sahiplenme\", between=\"Mevki\")\n",
    "ph4 = pg.pairwise_tukey(data, dv=\"Sahiplenme\", between=\"Departman\")\n",
    "\n",
    "print(ph1)\n",
    "print(ph2)\n",
    "print(ph3)\n",
    "print(ph4)"
   ]
  },
  {
   "cell_type": "code",
   "execution_count": null,
   "id": "33b77c87",
   "metadata": {},
   "outputs": [],
   "source": []
  }
 ],
 "metadata": {
  "kernelspec": {
   "display_name": "Python 3 (ipykernel)",
   "language": "python",
   "name": "python3"
  },
  "language_info": {
   "codemirror_mode": {
    "name": "ipython",
    "version": 3
   },
   "file_extension": ".py",
   "mimetype": "text/x-python",
   "name": "python",
   "nbconvert_exporter": "python",
   "pygments_lexer": "ipython3",
   "version": "3.9.16"
  }
 },
 "nbformat": 4,
 "nbformat_minor": 5
}
