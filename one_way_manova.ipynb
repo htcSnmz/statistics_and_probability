{
 "cells": [
  {
   "cell_type": "markdown",
   "id": "a207da05",
   "metadata": {},
   "source": [
    "VARSAYIMLAR\n",
    "-------------\n",
    "1 bağımsız değişken, 2 bağımlı değişken\n",
    "\n",
    "Gözlemler bağımsız\n",
    "\n",
    "Her bağımlı değişken sürekli\n",
    "\n",
    "Her bağımlı değişken normal dağılmalı (ya da n > 20)\n",
    "\n",
    "Varyanslar homojen\n",
    "\n",
    "Varyans-kovaryans matrisi eşitliği\n"
   ]
  },
  {
   "cell_type": "markdown",
   "id": "8e098c4a",
   "metadata": {},
   "source": [
    "#### Farklı ürün gruplarının kadın ve erkek gruplarının memnuniyet puanına etkisi ?"
   ]
  },
  {
   "cell_type": "code",
   "execution_count": 8,
   "id": "7f9f7d05",
   "metadata": {},
   "outputs": [
    {
     "data": {
      "text/html": [
       "<div>\n",
       "<style scoped>\n",
       "    .dataframe tbody tr th:only-of-type {\n",
       "        vertical-align: middle;\n",
       "    }\n",
       "\n",
       "    .dataframe tbody tr th {\n",
       "        vertical-align: top;\n",
       "    }\n",
       "\n",
       "    .dataframe thead th {\n",
       "        text-align: right;\n",
       "    }\n",
       "</style>\n",
       "<table border=\"1\" class=\"dataframe\">\n",
       "  <thead>\n",
       "    <tr style=\"text-align: right;\">\n",
       "      <th></th>\n",
       "      <th>Ürün</th>\n",
       "      <th>ErkekTutum</th>\n",
       "      <th>KadınTutum</th>\n",
       "    </tr>\n",
       "  </thead>\n",
       "  <tbody>\n",
       "    <tr>\n",
       "      <th>0</th>\n",
       "      <td>Ürün 1</td>\n",
       "      <td>10</td>\n",
       "      <td>6</td>\n",
       "    </tr>\n",
       "    <tr>\n",
       "      <th>1</th>\n",
       "      <td>Ürün 1</td>\n",
       "      <td>5</td>\n",
       "      <td>1</td>\n",
       "    </tr>\n",
       "    <tr>\n",
       "      <th>2</th>\n",
       "      <td>Ürün 1</td>\n",
       "      <td>6</td>\n",
       "      <td>6</td>\n",
       "    </tr>\n",
       "    <tr>\n",
       "      <th>3</th>\n",
       "      <td>Ürün 1</td>\n",
       "      <td>3</td>\n",
       "      <td>10</td>\n",
       "    </tr>\n",
       "    <tr>\n",
       "      <th>4</th>\n",
       "      <td>Ürün 1</td>\n",
       "      <td>7</td>\n",
       "      <td>8</td>\n",
       "    </tr>\n",
       "  </tbody>\n",
       "</table>\n",
       "</div>"
      ],
      "text/plain": [
       "     Ürün  ErkekTutum  KadınTutum\n",
       "0  Ürün 1          10           6\n",
       "1  Ürün 1           5           1\n",
       "2  Ürün 1           6           6\n",
       "3  Ürün 1           3          10\n",
       "4  Ürün 1           7           8"
      ]
     },
     "execution_count": 8,
     "metadata": {},
     "output_type": "execute_result"
    }
   ],
   "source": [
    "import pandas as pd\n",
    "data = pd.read_excel(\"C:/Users/htcso/OneDrive/Masaüstü/pythonProject/datasets/one_way_manova_ornek.xlsx\")\n",
    "data.head()"
   ]
  },
  {
   "cell_type": "code",
   "execution_count": 2,
   "id": "e5ac4f3a",
   "metadata": {},
   "outputs": [],
   "source": [
    "# Her ürün grubundan 20 adet örneklem old. için verilerin normal dağıldığı varsayılıyor."
   ]
  },
  {
   "cell_type": "markdown",
   "id": "d8539971",
   "metadata": {},
   "source": [
    "##### Homojenlik Testi"
   ]
  },
  {
   "cell_type": "code",
   "execution_count": 9,
   "id": "f0d0af59",
   "metadata": {},
   "outputs": [
    {
     "name": "stdout",
     "output_type": "stream",
     "text": [
      "               W      pval  equal_var\n",
      "levene  1.672707  0.196821       True\n"
     ]
    }
   ],
   "source": [
    "import pingouin as pg\n",
    "homojenlik = pg.homoscedasticity(data, dv=\"ErkekTutum\", group=\"Ürün\", center=\"mean\")\n",
    "print(homojenlik)"
   ]
  },
  {
   "cell_type": "code",
   "execution_count": 4,
   "id": "2f5029af",
   "metadata": {},
   "outputs": [],
   "source": [
    "# pval 0.196821, equal_var True --> homojenlik varsayımı geçerlidir."
   ]
  },
  {
   "cell_type": "code",
   "execution_count": 10,
   "id": "1c42a1b9",
   "metadata": {},
   "outputs": [
    {
     "name": "stdout",
     "output_type": "stream",
     "text": [
      "               W      pval  equal_var\n",
      "levene  0.900525  0.412058       True\n"
     ]
    }
   ],
   "source": [
    "homojenlik = pg.homoscedasticity(data, dv=\"KadınTutum\", group=\"Ürün\", center=\"mean\")\n",
    "print(homojenlik)"
   ]
  },
  {
   "cell_type": "code",
   "execution_count": 11,
   "id": "f52d198a",
   "metadata": {},
   "outputs": [],
   "source": [
    "# pval 0.412058, equal_var True --> homojenlik varsayımı geçerlidir."
   ]
  },
  {
   "cell_type": "markdown",
   "id": "74d1246f",
   "metadata": {},
   "source": [
    "##### Varyans - Kovaryans Matrisi Eşitliği"
   ]
  },
  {
   "cell_type": "code",
   "execution_count": 12,
   "id": "e1b886e0",
   "metadata": {},
   "outputs": [
    {
     "name": "stdout",
     "output_type": "stream",
     "text": [
      "         Chi2   df      pval  equal_cov\n",
      "box  3.018976  6.0  0.806461       True\n"
     ]
    }
   ],
   "source": [
    "varcov = pg.box_m(data, dvs=[\"ErkekTutum\", \"KadınTutum\"], group=\"Ürün\")\n",
    "print(varcov)"
   ]
  },
  {
   "cell_type": "code",
   "execution_count": 13,
   "id": "0ca68af9",
   "metadata": {},
   "outputs": [],
   "source": [
    "# pval 0.806461, equal_cov True --> var-kov eşitliği varsayımı geçerlidir."
   ]
  },
  {
   "cell_type": "markdown",
   "id": "8641760f",
   "metadata": {},
   "source": [
    "##### Manova"
   ]
  },
  {
   "cell_type": "code",
   "execution_count": 14,
   "id": "7a9abc97",
   "metadata": {},
   "outputs": [
    {
     "name": "stdout",
     "output_type": "stream",
     "text": [
      "                  Multivariate linear model\n",
      "=============================================================\n",
      "                                                             \n",
      "-------------------------------------------------------------\n",
      "        Intercept        Value  Num DF  Den DF F Value Pr > F\n",
      "-------------------------------------------------------------\n",
      "           Wilks' lambda 0.3065 2.0000 56.0000 63.3568 0.0000\n",
      "          Pillai's trace 0.6935 2.0000 56.0000 63.3568 0.0000\n",
      "  Hotelling-Lawley trace 2.2627 2.0000 56.0000 63.3568 0.0000\n",
      "     Roy's greatest root 2.2627 2.0000 56.0000 63.3568 0.0000\n",
      "-------------------------------------------------------------\n",
      "                                                             \n",
      "-------------------------------------------------------------\n",
      "          Ürün          Value  Num DF  Den DF  F Value Pr > F\n",
      "-------------------------------------------------------------\n",
      "          Wilks' lambda 0.9099 4.0000 112.0000  1.3532 0.2548\n",
      "         Pillai's trace 0.0907 4.0000 114.0000  1.3540 0.2544\n",
      " Hotelling-Lawley trace 0.0983 4.0000  66.1739  1.3684 0.2544\n",
      "    Roy's greatest root 0.0906 2.0000  57.0000  2.5825 0.0844\n",
      "=============================================================\n",
      "\n"
     ]
    }
   ],
   "source": [
    "from statsmodels.multivariate.manova import MANOVA\n",
    "model = MANOVA.from_formula(\"ErkekTutum + KadınTutum ~ Ürün\", data=data)\n",
    "print(model.mv_test())"
   ]
  },
  {
   "cell_type": "code",
   "execution_count": 15,
   "id": "ffa5ab81",
   "metadata": {},
   "outputs": [],
   "source": [
    "# Wilks' lambda varsayımlara karşı daha güçlü olduğu için, daha çok kullanılır.\n",
    "# Pr > F: 0.2548 --> Ürün gruplarının Kadın Erkek gruplarının tutumları üzerinden anlamlı bir etkisi yoktur denebilir."
   ]
  },
  {
   "cell_type": "markdown",
   "id": "17999459",
   "metadata": {},
   "source": [
    "##### Test Anlamlı Çıksaydı Post Hoc Testi"
   ]
  },
  {
   "cell_type": "code",
   "execution_count": 16,
   "id": "7df262cd",
   "metadata": {},
   "outputs": [
    {
     "name": "stdout",
     "output_type": "stream",
     "text": [
      "        A       B  mean(A)  mean(B)  diff        se         T   p-tukey  \\\n",
      "0  Ürün 1  Ürün 2     6.55     4.85   1.7  0.964683  1.762236  0.191525   \n",
      "1  Ürün 1  Ürün 3     6.55     5.05   1.5  0.964683  1.554914  0.273484   \n",
      "2  Ürün 2  Ürün 3     4.85     5.05  -0.2  0.964683 -0.207322  0.976593   \n",
      "\n",
      "     hedges  \n",
      "0  0.571069  \n",
      "1  0.495975  \n",
      "2 -0.060157  \n",
      "        A       B  mean(A)  mean(B)  diff        se         T   p-tukey  \\\n",
      "0  Ürün 1  Ürün 2     4.85     5.35 -0.50  0.965274 -0.517988  0.862897   \n",
      "1  Ürün 1  Ürün 3     4.85     6.00 -1.15  0.965274 -1.191371  0.463139   \n",
      "2  Ürün 2  Ürün 3     5.35     6.00 -0.65  0.965274 -0.673384  0.779841   \n",
      "\n",
      "     hedges  \n",
      "0 -0.161225  \n",
      "1 -0.356179  \n",
      "2 -0.216009  \n"
     ]
    }
   ],
   "source": [
    "ph1 = pg.pairwise_tukey(data, dv=\"ErkekTutum\", between=\"Ürün\")\n",
    "ph2 = pg.pairwise_tukey(data, dv=\"KadınTutum\", between=\"Ürün\")\n",
    "print(ph1)\n",
    "print(ph2)"
   ]
  },
  {
   "cell_type": "code",
   "execution_count": 17,
   "id": "0caf69af",
   "metadata": {},
   "outputs": [],
   "source": [
    "# p-tukey < 0.05 olan gruplar anlamlı fark yaratmaktadır. Manova testimiz zaten fark yoktur sonucunu ortaya çıkardığı için\n",
    "# post hoc testinde de gruplar arası fark görülmemektedir"
   ]
  }
 ],
 "metadata": {
  "kernelspec": {
   "display_name": "Python 3 (ipykernel)",
   "language": "python",
   "name": "python3"
  },
  "language_info": {
   "codemirror_mode": {
    "name": "ipython",
    "version": 3
   },
   "file_extension": ".py",
   "mimetype": "text/x-python",
   "name": "python",
   "nbconvert_exporter": "python",
   "pygments_lexer": "ipython3",
   "version": "3.9.16"
  }
 },
 "nbformat": 4,
 "nbformat_minor": 5
}
